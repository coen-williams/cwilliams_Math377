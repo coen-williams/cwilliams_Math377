{
 "cells": [
  {
   "cell_type": "markdown",
   "metadata": {},
   "source": [
    "# Lsn 1 HW\n",
    "# This is a heading! :) \n",
    "## No this is a heading\n",
    "### Nu-uh this is\n",
    "#### Hahaha im getting smaller\n",
    "##### Reaching my physical limits now\n",
    "###### Almost there\n",
    "####### There we go, termination\n",
    "This is my Jupyter notebook. "
   ]
  },
  {
   "cell_type": "code",
   "execution_count": 2,
   "metadata": {},
   "outputs": [
    {
     "name": "stdout",
     "output_type": "stream",
     "text": [
      "Hello World\n"
     ]
    }
   ],
   "source": [
    "print(\"Hello World\")"
   ]
  },
  {
   "cell_type": "markdown",
   "metadata": {},
   "source": [
    "Now I shall add two to too"
   ]
  },
  {
   "cell_type": "code",
   "execution_count": 3,
   "metadata": {},
   "outputs": [
    {
     "data": {
      "text/plain": [
       "4"
      ]
     },
     "execution_count": 3,
     "metadata": {},
     "output_type": "execute_result"
    }
   ],
   "source": [
    "2+2"
   ]
  },
  {
   "cell_type": "markdown",
   "metadata": {},
   "source": [
    "The answer is 4."
   ]
  },
  {
   "cell_type": "markdown",
   "metadata": {},
   "source": [
    "# Lsn 2 HW\n",
    "1. Define Data Science: \n",
    "    The technical skills required to utilize statistics and computing in order to extrapolate conclusions or predictions from an     incomplete set of data.\n",
    "2. What are the 3 focus areas of this course:\n",
    "    Exploration, Inference, and Prediction.\n",
    "3. Install data science package. Check\n",
    "4. Do all three basic calculations in seperate boxes."
   ]
  },
  {
   "cell_type": "code",
   "execution_count": 3,
   "metadata": {},
   "outputs": [
    {
     "data": {
      "text/plain": [
       "2"
      ]
     },
     "execution_count": 3,
     "metadata": {},
     "output_type": "execute_result"
    }
   ],
   "source": [
    "1+1"
   ]
  },
  {
   "cell_type": "code",
   "execution_count": 4,
   "metadata": {},
   "outputs": [
    {
     "data": {
      "text/plain": [
       "0"
      ]
     },
     "execution_count": 4,
     "metadata": {},
     "output_type": "execute_result"
    }
   ],
   "source": [
    "1-1"
   ]
  },
  {
   "cell_type": "code",
   "execution_count": 5,
   "metadata": {},
   "outputs": [
    {
     "data": {
      "text/plain": [
       "1"
      ]
     },
     "execution_count": 5,
     "metadata": {},
     "output_type": "execute_result"
    }
   ],
   "source": [
    "1*1"
   ]
  },
  {
   "cell_type": "markdown",
   "metadata": {},
   "source": [
    "5. Print your name and then print a thumbsup sign after."
   ]
  },
  {
   "cell_type": "code",
   "execution_count": 9,
   "metadata": {},
   "outputs": [
    {
     "name": "stdout",
     "output_type": "stream",
     "text": [
      "Coen 👍\n"
     ]
    }
   ],
   "source": [
    "print(\"Coen \\N{thumbs up sign}\") "
   ]
  },
  {
   "cell_type": "markdown",
   "metadata": {},
   "source": [
    "6. How ice cream sales and violent crime related?\n",
    "    Ice cream sales do not neccessarily increase violent crime, this is purely correlation. Until we prove statistical               signifigance in a statistical test that tests this relationship acounting for all variables, can we call this causation.         There may be an outside variable that is causing both of these phenomenons.\n",
    "7. What is the differnece between an observational study and an experiment?\n",
    "    An observational study takes place in an uncontrolled environment and typically entails basic data collection or hypothesis forming, whereas an experiment is in a variable controlled environment in which all is controlled expcept for the specific independent variable, and is used to test for causation or influence using statistical signifigance."
   ]
  },
  {
   "cell_type": "markdown",
   "metadata": {},
   "source": [
    "# Lesson 3 HW\n",
    "\n",
    "\n",
    "1)\tUse basic Python operators to find the number of seconds in the month of June. Find the number of seconds that have lapsed between 14 Aug, 0930 and 1 June, 1200. \n",
    "2)\tImport a table (‘world_population.csv’) and find:\n",
    "    a.\tThe population in 2016. \n",
    "    b.\tThe population growth between 1950 (beginning of dataset) and 2016. \n",
    "    c.\tThe annual growth rates over the course of the dataset\n",
    "3)\tThe ‘Titanic’ dataset describes passengers on the Titanic when it sank. Url:  https://raw.githubusercontent.com/oikobill/Kaggle/master/Titanic/data/train.csv. Information about this dataset can be found at a kaggle site (https://www.kaggle.com/c/titanic). Import this dataset and answer the following questions: \n",
    "    a.\tRelabel the ‘Pclass’ column to ‘passenger_class’. \n",
    "    b.\tCreate a new column ‘family_size’ that adds the number of siblings/spouses, ‘SibSp’, to the number of children, ‘Parch’. \n",
    "    c.\tCreate a barplot of number of passengers, broken down by passenger class. HINT: you will need to use the group method on the dataset; for more info, see the datascience package help.  \n",
    "    d.\tSort the data by age and show the youngest 5 passengers. \n",
    "    e.\tNow sort by age from oldest to youngest and show the oldest 5 passengers. What did you notice? Eliminate these “nan” values and try again.\n",
    "    f.\tFind the survival rate for passengers of the Titanic, broken down by passenger class. (You will need to use group again.) \n",
    "    g.\tNow that you have some familiarity with the dataset, create two of your own questions and answer them.\n"
   ]
  },
  {
   "cell_type": "code",
   "execution_count": 17,
   "metadata": {},
   "outputs": [],
   "source": [
    "import numpy as np\n",
    "from datascience import *\n",
    "%matplotlib inline\n",
    "import matplotlib.pyplot as plots\n",
    "plots.style.use('fivethirtyeight')\n",
    "import warnings\n",
    "warnings.simplefilter(action=\"ignore\", category=FutureWarning)"
   ]
  },
  {
   "cell_type": "markdown",
   "metadata": {},
   "source": [
    "1)"
   ]
  },
  {
   "cell_type": "code",
   "execution_count": 59,
   "metadata": {},
   "outputs": [
    {
     "data": {
      "text/plain": [
       "2592000"
      ]
     },
     "execution_count": 59,
     "metadata": {},
     "output_type": "execute_result"
    }
   ],
   "source": [
    "sec_min=60\n",
    "min_hour=60\n",
    "hour_day=24\n",
    "day_June=30\n",
    "seconds_in_June=sec_min*min_hour*hour_day*day_June\n",
    "seconds_in_June"
   ]
  },
  {
   "cell_type": "code",
   "execution_count": 60,
   "metadata": {},
   "outputs": [
    {
     "data": {
      "text/plain": [
       "1564200.0"
      ]
     },
     "execution_count": 60,
     "metadata": {},
     "output_type": "execute_result"
    }
   ],
   "source": [
    "day_diff=abs(32-14)\n",
    "hour_diff=2.5\n",
    "tot_secs=day_diff*hour_day*min_hour*sec_min+hour_diff*min_hour*sec_min\n",
    "tot_secs"
   ]
  },
  {
   "cell_type": "markdown",
   "metadata": {},
   "source": [
    "2)"
   ]
  },
  {
   "cell_type": "code",
   "execution_count": 62,
   "metadata": {},
   "outputs": [
    {
     "data": {
      "text/html": [
       "<table border=\"1\" class=\"dataframe\">\n",
       "    <thead>\n",
       "        <tr>\n",
       "            <th>Population</th>\n",
       "        </tr>\n",
       "    </thead>\n",
       "    <tbody>\n",
       "        <tr>\n",
       "            <td>2557628654</td>\n",
       "        </tr>\n",
       "        <tr>\n",
       "            <td>2594939877</td>\n",
       "        </tr>\n",
       "        <tr>\n",
       "            <td>2636772306</td>\n",
       "        </tr>\n",
       "        <tr>\n",
       "            <td>2682053389</td>\n",
       "        </tr>\n",
       "        <tr>\n",
       "            <td>2730228104</td>\n",
       "        </tr>\n",
       "        <tr>\n",
       "            <td>2782098943</td>\n",
       "        </tr>\n",
       "        <tr>\n",
       "            <td>2835299673</td>\n",
       "        </tr>\n",
       "        <tr>\n",
       "            <td>2891349717</td>\n",
       "        </tr>\n",
       "        <tr>\n",
       "            <td>2948137248</td>\n",
       "        </tr>\n",
       "        <tr>\n",
       "            <td>3000716593</td>\n",
       "        </tr>\n",
       "    </tbody>\n",
       "</table>\n",
       "<p>... (56 rows omitted)</p>"
      ],
      "text/plain": [
       "Population\n",
       "2557628654\n",
       "2594939877\n",
       "2636772306\n",
       "2682053389\n",
       "2730228104\n",
       "2782098943\n",
       "2835299673\n",
       "2891349717\n",
       "2948137248\n",
       "3000716593\n",
       "... (56 rows omitted)"
      ]
     },
     "execution_count": 62,
     "metadata": {},
     "output_type": "execute_result"
    }
   ],
   "source": [
    "population = Table.read_table('world_population.csv')\n",
    "population"
   ]
  },
  {
   "cell_type": "markdown",
   "metadata": {},
   "source": [
    "a)"
   ]
  },
  {
   "cell_type": "code",
   "execution_count": 66,
   "metadata": {},
   "outputs": [
    {
     "data": {
      "text/plain": [
       "7256490011"
      ]
     },
     "execution_count": 66,
     "metadata": {},
     "output_type": "execute_result"
    }
   ],
   "source": [
    "pop_2016=max(population.column('Population'))\n",
    "pop_2016"
   ]
  },
  {
   "cell_type": "markdown",
   "metadata": {},
   "source": [
    "b)"
   ]
  },
  {
   "cell_type": "code",
   "execution_count": 68,
   "metadata": {},
   "outputs": [
    {
     "data": {
      "text/plain": [
       "4698861357"
      ]
     },
     "execution_count": 68,
     "metadata": {},
     "output_type": "execute_result"
    }
   ],
   "source": [
    "pop_1950=min(population.column('Population'))\n",
    "pop_growth=abs(pop_1950-pop_2016)\n",
    "pop_growth"
   ]
  },
  {
   "cell_type": "markdown",
   "metadata": {},
   "source": [
    "c)"
   ]
  },
  {
   "cell_type": "code",
   "execution_count": 70,
   "metadata": {},
   "outputs": [
    {
     "data": {
      "text/plain": [
       "0.015925721968250928"
      ]
     },
     "execution_count": 70,
     "metadata": {},
     "output_type": "execute_result"
    }
   ],
   "source": [
    "num_years=2016-1950\n",
    "g = (pop_2016 / pop_1950) ** (1/num_years) - 1\n",
    "g"
   ]
  },
  {
   "cell_type": "markdown",
   "metadata": {},
   "source": [
    "3)"
   ]
  },
  {
   "cell_type": "code",
   "execution_count": 21,
   "metadata": {},
   "outputs": [
    {
     "data": {
      "text/html": [
       "<table border=\"1\" class=\"dataframe\">\n",
       "    <thead>\n",
       "        <tr>\n",
       "            <th>PassengerId</th> <th>Survived</th> <th>Pclass</th> <th>Name</th> <th>Sex</th> <th>Age</th> <th>SibSp</th> <th>Parch</th> <th>Ticket</th> <th>Fare</th> <th>Cabin</th> <th>Embarked</th>\n",
       "        </tr>\n",
       "    </thead>\n",
       "    <tbody>\n",
       "        <tr>\n",
       "            <td>1          </td> <td>0       </td> <td>3     </td> <td>Braund, Mr. Owen Harris                            </td> <td>male  </td> <td>22  </td> <td>1    </td> <td>0    </td> <td>A/5 21171       </td> <td>7.25   </td> <td>nan  </td> <td>S       </td>\n",
       "        </tr>\n",
       "        <tr>\n",
       "            <td>2          </td> <td>1       </td> <td>1     </td> <td>Cumings, Mrs. John Bradley (Florence Briggs Thayer)</td> <td>female</td> <td>38  </td> <td>1    </td> <td>0    </td> <td>PC 17599        </td> <td>71.2833</td> <td>C85  </td> <td>C       </td>\n",
       "        </tr>\n",
       "        <tr>\n",
       "            <td>3          </td> <td>1       </td> <td>3     </td> <td>Heikkinen, Miss. Laina                             </td> <td>female</td> <td>26  </td> <td>0    </td> <td>0    </td> <td>STON/O2. 3101282</td> <td>7.925  </td> <td>nan  </td> <td>S       </td>\n",
       "        </tr>\n",
       "        <tr>\n",
       "            <td>4          </td> <td>1       </td> <td>1     </td> <td>Futrelle, Mrs. Jacques Heath (Lily May Peel)       </td> <td>female</td> <td>35  </td> <td>1    </td> <td>0    </td> <td>113803          </td> <td>53.1   </td> <td>C123 </td> <td>S       </td>\n",
       "        </tr>\n",
       "        <tr>\n",
       "            <td>5          </td> <td>0       </td> <td>3     </td> <td>Allen, Mr. William Henry                           </td> <td>male  </td> <td>35  </td> <td>0    </td> <td>0    </td> <td>373450          </td> <td>8.05   </td> <td>nan  </td> <td>S       </td>\n",
       "        </tr>\n",
       "        <tr>\n",
       "            <td>6          </td> <td>0       </td> <td>3     </td> <td>Moran, Mr. James                                   </td> <td>male  </td> <td>nan </td> <td>0    </td> <td>0    </td> <td>330877          </td> <td>8.4583 </td> <td>nan  </td> <td>Q       </td>\n",
       "        </tr>\n",
       "        <tr>\n",
       "            <td>7          </td> <td>0       </td> <td>1     </td> <td>McCarthy, Mr. Timothy J                            </td> <td>male  </td> <td>54  </td> <td>0    </td> <td>0    </td> <td>17463           </td> <td>51.8625</td> <td>E46  </td> <td>S       </td>\n",
       "        </tr>\n",
       "        <tr>\n",
       "            <td>8          </td> <td>0       </td> <td>3     </td> <td>Palsson, Master. Gosta Leonard                     </td> <td>male  </td> <td>2   </td> <td>3    </td> <td>1    </td> <td>349909          </td> <td>21.075 </td> <td>nan  </td> <td>S       </td>\n",
       "        </tr>\n",
       "        <tr>\n",
       "            <td>9          </td> <td>1       </td> <td>3     </td> <td>Johnson, Mrs. Oscar W (Elisabeth Vilhelmina Berg)  </td> <td>female</td> <td>27  </td> <td>0    </td> <td>2    </td> <td>347742          </td> <td>11.1333</td> <td>nan  </td> <td>S       </td>\n",
       "        </tr>\n",
       "        <tr>\n",
       "            <td>10         </td> <td>1       </td> <td>2     </td> <td>Nasser, Mrs. Nicholas (Adele Achem)                </td> <td>female</td> <td>14  </td> <td>1    </td> <td>0    </td> <td>237736          </td> <td>30.0708</td> <td>nan  </td> <td>C       </td>\n",
       "        </tr>\n",
       "    </tbody>\n",
       "</table>\n",
       "<p>... (881 rows omitted)</p>"
      ],
      "text/plain": [
       "PassengerId | Survived | Pclass | Name                                                | Sex    | Age  | SibSp | Parch | Ticket           | Fare    | Cabin | Embarked\n",
       "1           | 0        | 3      | Braund, Mr. Owen Harris                             | male   | 22   | 1     | 0     | A/5 21171        | 7.25    | nan   | S\n",
       "2           | 1        | 1      | Cumings, Mrs. John Bradley (Florence Briggs Thayer) | female | 38   | 1     | 0     | PC 17599         | 71.2833 | C85   | C\n",
       "3           | 1        | 3      | Heikkinen, Miss. Laina                              | female | 26   | 0     | 0     | STON/O2. 3101282 | 7.925   | nan   | S\n",
       "4           | 1        | 1      | Futrelle, Mrs. Jacques Heath (Lily May Peel)        | female | 35   | 1     | 0     | 113803           | 53.1    | C123  | S\n",
       "5           | 0        | 3      | Allen, Mr. William Henry                            | male   | 35   | 0     | 0     | 373450           | 8.05    | nan   | S\n",
       "6           | 0        | 3      | Moran, Mr. James                                    | male   | nan  | 0     | 0     | 330877           | 8.4583  | nan   | Q\n",
       "7           | 0        | 1      | McCarthy, Mr. Timothy J                             | male   | 54   | 0     | 0     | 17463            | 51.8625 | E46   | S\n",
       "8           | 0        | 3      | Palsson, Master. Gosta Leonard                      | male   | 2    | 3     | 1     | 349909           | 21.075  | nan   | S\n",
       "9           | 1        | 3      | Johnson, Mrs. Oscar W (Elisabeth Vilhelmina Berg)   | female | 27   | 0     | 2     | 347742           | 11.1333 | nan   | S\n",
       "10          | 1        | 2      | Nasser, Mrs. Nicholas (Adele Achem)                 | female | 14   | 1     | 0     | 237736           | 30.0708 | nan   | C\n",
       "... (881 rows omitted)"
      ]
     },
     "execution_count": 21,
     "metadata": {},
     "output_type": "execute_result"
    }
   ],
   "source": [
    "titanic=Table.read_table('https://raw.githubusercontent.com/oikobill/Kaggle/master/Titanic/data/train.csv')\n",
    "titanic"
   ]
  },
  {
   "cell_type": "markdown",
   "metadata": {},
   "source": [
    "a)"
   ]
  },
  {
   "cell_type": "code",
   "execution_count": 22,
   "metadata": {},
   "outputs": [
    {
     "data": {
      "text/html": [
       "<table border=\"1\" class=\"dataframe\">\n",
       "    <thead>\n",
       "        <tr>\n",
       "            <th>PassengerId</th> <th>Survived</th> <th>passenger_class</th> <th>Name</th> <th>Sex</th> <th>Age</th> <th>SibSp</th> <th>Parch</th> <th>Ticket</th> <th>Fare</th> <th>Cabin</th> <th>Embarked</th>\n",
       "        </tr>\n",
       "    </thead>\n",
       "    <tbody>\n",
       "        <tr>\n",
       "            <td>1          </td> <td>0       </td> <td>3              </td> <td>Braund, Mr. Owen Harris                            </td> <td>male  </td> <td>22  </td> <td>1    </td> <td>0    </td> <td>A/5 21171       </td> <td>7.25   </td> <td>nan  </td> <td>S       </td>\n",
       "        </tr>\n",
       "        <tr>\n",
       "            <td>2          </td> <td>1       </td> <td>1              </td> <td>Cumings, Mrs. John Bradley (Florence Briggs Thayer)</td> <td>female</td> <td>38  </td> <td>1    </td> <td>0    </td> <td>PC 17599        </td> <td>71.2833</td> <td>C85  </td> <td>C       </td>\n",
       "        </tr>\n",
       "        <tr>\n",
       "            <td>3          </td> <td>1       </td> <td>3              </td> <td>Heikkinen, Miss. Laina                             </td> <td>female</td> <td>26  </td> <td>0    </td> <td>0    </td> <td>STON/O2. 3101282</td> <td>7.925  </td> <td>nan  </td> <td>S       </td>\n",
       "        </tr>\n",
       "        <tr>\n",
       "            <td>4          </td> <td>1       </td> <td>1              </td> <td>Futrelle, Mrs. Jacques Heath (Lily May Peel)       </td> <td>female</td> <td>35  </td> <td>1    </td> <td>0    </td> <td>113803          </td> <td>53.1   </td> <td>C123 </td> <td>S       </td>\n",
       "        </tr>\n",
       "        <tr>\n",
       "            <td>5          </td> <td>0       </td> <td>3              </td> <td>Allen, Mr. William Henry                           </td> <td>male  </td> <td>35  </td> <td>0    </td> <td>0    </td> <td>373450          </td> <td>8.05   </td> <td>nan  </td> <td>S       </td>\n",
       "        </tr>\n",
       "        <tr>\n",
       "            <td>6          </td> <td>0       </td> <td>3              </td> <td>Moran, Mr. James                                   </td> <td>male  </td> <td>nan </td> <td>0    </td> <td>0    </td> <td>330877          </td> <td>8.4583 </td> <td>nan  </td> <td>Q       </td>\n",
       "        </tr>\n",
       "        <tr>\n",
       "            <td>7          </td> <td>0       </td> <td>1              </td> <td>McCarthy, Mr. Timothy J                            </td> <td>male  </td> <td>54  </td> <td>0    </td> <td>0    </td> <td>17463           </td> <td>51.8625</td> <td>E46  </td> <td>S       </td>\n",
       "        </tr>\n",
       "        <tr>\n",
       "            <td>8          </td> <td>0       </td> <td>3              </td> <td>Palsson, Master. Gosta Leonard                     </td> <td>male  </td> <td>2   </td> <td>3    </td> <td>1    </td> <td>349909          </td> <td>21.075 </td> <td>nan  </td> <td>S       </td>\n",
       "        </tr>\n",
       "        <tr>\n",
       "            <td>9          </td> <td>1       </td> <td>3              </td> <td>Johnson, Mrs. Oscar W (Elisabeth Vilhelmina Berg)  </td> <td>female</td> <td>27  </td> <td>0    </td> <td>2    </td> <td>347742          </td> <td>11.1333</td> <td>nan  </td> <td>S       </td>\n",
       "        </tr>\n",
       "        <tr>\n",
       "            <td>10         </td> <td>1       </td> <td>2              </td> <td>Nasser, Mrs. Nicholas (Adele Achem)                </td> <td>female</td> <td>14  </td> <td>1    </td> <td>0    </td> <td>237736          </td> <td>30.0708</td> <td>nan  </td> <td>C       </td>\n",
       "        </tr>\n",
       "    </tbody>\n",
       "</table>\n",
       "<p>... (881 rows omitted)</p>"
      ],
      "text/plain": [
       "PassengerId | Survived | passenger_class | Name                                                | Sex    | Age  | SibSp | Parch | Ticket           | Fare    | Cabin | Embarked\n",
       "1           | 0        | 3               | Braund, Mr. Owen Harris                             | male   | 22   | 1     | 0     | A/5 21171        | 7.25    | nan   | S\n",
       "2           | 1        | 1               | Cumings, Mrs. John Bradley (Florence Briggs Thayer) | female | 38   | 1     | 0     | PC 17599         | 71.2833 | C85   | C\n",
       "3           | 1        | 3               | Heikkinen, Miss. Laina                              | female | 26   | 0     | 0     | STON/O2. 3101282 | 7.925   | nan   | S\n",
       "4           | 1        | 1               | Futrelle, Mrs. Jacques Heath (Lily May Peel)        | female | 35   | 1     | 0     | 113803           | 53.1    | C123  | S\n",
       "5           | 0        | 3               | Allen, Mr. William Henry                            | male   | 35   | 0     | 0     | 373450           | 8.05    | nan   | S\n",
       "6           | 0        | 3               | Moran, Mr. James                                    | male   | nan  | 0     | 0     | 330877           | 8.4583  | nan   | Q\n",
       "7           | 0        | 1               | McCarthy, Mr. Timothy J                             | male   | 54   | 0     | 0     | 17463            | 51.8625 | E46   | S\n",
       "8           | 0        | 3               | Palsson, Master. Gosta Leonard                      | male   | 2    | 3     | 1     | 349909           | 21.075  | nan   | S\n",
       "9           | 1        | 3               | Johnson, Mrs. Oscar W (Elisabeth Vilhelmina Berg)   | female | 27   | 0     | 2     | 347742           | 11.1333 | nan   | S\n",
       "10          | 1        | 2               | Nasser, Mrs. Nicholas (Adele Achem)                 | female | 14   | 1     | 0     | 237736           | 30.0708 | nan   | C\n",
       "... (881 rows omitted)"
      ]
     },
     "execution_count": 22,
     "metadata": {},
     "output_type": "execute_result"
    }
   ],
   "source": [
    "titanic=titanic.relabeled('Pclass', 'passenger_class')\n",
    "titanic"
   ]
  },
  {
   "cell_type": "markdown",
   "metadata": {},
   "source": [
    "b)"
   ]
  },
  {
   "cell_type": "code",
   "execution_count": 23,
   "metadata": {},
   "outputs": [
    {
     "data": {
      "text/html": [
       "<table border=\"1\" class=\"dataframe\">\n",
       "    <thead>\n",
       "        <tr>\n",
       "            <th>PassengerId</th> <th>Survived</th> <th>passenger_class</th> <th>Name</th> <th>Sex</th> <th>Age</th> <th>SibSp</th> <th>Parch</th> <th>Ticket</th> <th>Fare</th> <th>Cabin</th> <th>Embarked</th> <th>family_size</th>\n",
       "        </tr>\n",
       "    </thead>\n",
       "    <tbody>\n",
       "        <tr>\n",
       "            <td>1          </td> <td>0       </td> <td>3              </td> <td>Braund, Mr. Owen Harris                            </td> <td>male  </td> <td>22  </td> <td>1    </td> <td>0    </td> <td>A/5 21171       </td> <td>7.25   </td> <td>nan  </td> <td>S       </td> <td>1          </td>\n",
       "        </tr>\n",
       "        <tr>\n",
       "            <td>2          </td> <td>1       </td> <td>1              </td> <td>Cumings, Mrs. John Bradley (Florence Briggs Thayer)</td> <td>female</td> <td>38  </td> <td>1    </td> <td>0    </td> <td>PC 17599        </td> <td>71.2833</td> <td>C85  </td> <td>C       </td> <td>1          </td>\n",
       "        </tr>\n",
       "        <tr>\n",
       "            <td>3          </td> <td>1       </td> <td>3              </td> <td>Heikkinen, Miss. Laina                             </td> <td>female</td> <td>26  </td> <td>0    </td> <td>0    </td> <td>STON/O2. 3101282</td> <td>7.925  </td> <td>nan  </td> <td>S       </td> <td>0          </td>\n",
       "        </tr>\n",
       "        <tr>\n",
       "            <td>4          </td> <td>1       </td> <td>1              </td> <td>Futrelle, Mrs. Jacques Heath (Lily May Peel)       </td> <td>female</td> <td>35  </td> <td>1    </td> <td>0    </td> <td>113803          </td> <td>53.1   </td> <td>C123 </td> <td>S       </td> <td>1          </td>\n",
       "        </tr>\n",
       "        <tr>\n",
       "            <td>5          </td> <td>0       </td> <td>3              </td> <td>Allen, Mr. William Henry                           </td> <td>male  </td> <td>35  </td> <td>0    </td> <td>0    </td> <td>373450          </td> <td>8.05   </td> <td>nan  </td> <td>S       </td> <td>0          </td>\n",
       "        </tr>\n",
       "        <tr>\n",
       "            <td>6          </td> <td>0       </td> <td>3              </td> <td>Moran, Mr. James                                   </td> <td>male  </td> <td>nan </td> <td>0    </td> <td>0    </td> <td>330877          </td> <td>8.4583 </td> <td>nan  </td> <td>Q       </td> <td>0          </td>\n",
       "        </tr>\n",
       "        <tr>\n",
       "            <td>7          </td> <td>0       </td> <td>1              </td> <td>McCarthy, Mr. Timothy J                            </td> <td>male  </td> <td>54  </td> <td>0    </td> <td>0    </td> <td>17463           </td> <td>51.8625</td> <td>E46  </td> <td>S       </td> <td>0          </td>\n",
       "        </tr>\n",
       "        <tr>\n",
       "            <td>8          </td> <td>0       </td> <td>3              </td> <td>Palsson, Master. Gosta Leonard                     </td> <td>male  </td> <td>2   </td> <td>3    </td> <td>1    </td> <td>349909          </td> <td>21.075 </td> <td>nan  </td> <td>S       </td> <td>4          </td>\n",
       "        </tr>\n",
       "        <tr>\n",
       "            <td>9          </td> <td>1       </td> <td>3              </td> <td>Johnson, Mrs. Oscar W (Elisabeth Vilhelmina Berg)  </td> <td>female</td> <td>27  </td> <td>0    </td> <td>2    </td> <td>347742          </td> <td>11.1333</td> <td>nan  </td> <td>S       </td> <td>2          </td>\n",
       "        </tr>\n",
       "        <tr>\n",
       "            <td>10         </td> <td>1       </td> <td>2              </td> <td>Nasser, Mrs. Nicholas (Adele Achem)                </td> <td>female</td> <td>14  </td> <td>1    </td> <td>0    </td> <td>237736          </td> <td>30.0708</td> <td>nan  </td> <td>C       </td> <td>1          </td>\n",
       "        </tr>\n",
       "    </tbody>\n",
       "</table>\n",
       "<p>... (881 rows omitted)</p>"
      ],
      "text/plain": [
       "PassengerId | Survived | passenger_class | Name                                                | Sex    | Age  | SibSp | Parch | Ticket           | Fare    | Cabin | Embarked | family_size\n",
       "1           | 0        | 3               | Braund, Mr. Owen Harris                             | male   | 22   | 1     | 0     | A/5 21171        | 7.25    | nan   | S        | 1\n",
       "2           | 1        | 1               | Cumings, Mrs. John Bradley (Florence Briggs Thayer) | female | 38   | 1     | 0     | PC 17599         | 71.2833 | C85   | C        | 1\n",
       "3           | 1        | 3               | Heikkinen, Miss. Laina                              | female | 26   | 0     | 0     | STON/O2. 3101282 | 7.925   | nan   | S        | 0\n",
       "4           | 1        | 1               | Futrelle, Mrs. Jacques Heath (Lily May Peel)        | female | 35   | 1     | 0     | 113803           | 53.1    | C123  | S        | 1\n",
       "5           | 0        | 3               | Allen, Mr. William Henry                            | male   | 35   | 0     | 0     | 373450           | 8.05    | nan   | S        | 0\n",
       "6           | 0        | 3               | Moran, Mr. James                                    | male   | nan  | 0     | 0     | 330877           | 8.4583  | nan   | Q        | 0\n",
       "7           | 0        | 1               | McCarthy, Mr. Timothy J                             | male   | 54   | 0     | 0     | 17463            | 51.8625 | E46   | S        | 0\n",
       "8           | 0        | 3               | Palsson, Master. Gosta Leonard                      | male   | 2    | 3     | 1     | 349909           | 21.075  | nan   | S        | 4\n",
       "9           | 1        | 3               | Johnson, Mrs. Oscar W (Elisabeth Vilhelmina Berg)   | female | 27   | 0     | 2     | 347742           | 11.1333 | nan   | S        | 2\n",
       "10          | 1        | 2               | Nasser, Mrs. Nicholas (Adele Achem)                 | female | 14   | 1     | 0     | 237736           | 30.0708 | nan   | C        | 1\n",
       "... (881 rows omitted)"
      ]
     },
     "execution_count": 23,
     "metadata": {},
     "output_type": "execute_result"
    }
   ],
   "source": [
    "tot=titanic.column('SibSp')+titanic.column('Parch')\n",
    "titanic=titanic.with_columns('family_size', tot)\n",
    "titanic"
   ]
  },
  {
   "cell_type": "markdown",
   "metadata": {},
   "source": [
    "c)"
   ]
  },
  {
   "cell_type": "code",
   "execution_count": 24,
   "metadata": {},
   "outputs": [
    {
     "data": {
      "image/png": "[encoded data removed]",
      "text/plain": [
       "<Figure size 432x288 with 1 Axes>"
      ]
     },
     "metadata": {},
     "output_type": "display_data"
    }
   ],
   "source": [
    "counter=titanic.group('passenger_class')\n",
    "counter.sort('count').barh('passenger_class')"
   ]
  },
  {
   "cell_type": "markdown",
   "metadata": {},
   "source": [
    "d)"
   ]
  },
  {
   "cell_type": "code",
   "execution_count": 127,
   "metadata": {},
   "outputs": [
    {
     "data": {
      "text/html": [
       "<table border=\"1\" class=\"dataframe\">\n",
       "    <thead>\n",
       "        <tr>\n",
       "            <th>PassengerId</th> <th>Survived</th> <th>passenger_class</th> <th>Name</th> <th>Sex</th> <th>Age</th> <th>SibSp</th> <th>Parch</th> <th>Ticket</th> <th>Fare</th> <th>Cabin</th> <th>Embarked</th> <th>family_size</th>\n",
       "        </tr>\n",
       "    </thead>\n",
       "    <tbody>\n",
       "        <tr>\n",
       "            <td>804        </td> <td>1       </td> <td>3              </td> <td>Thomas, Master. Assad Alexander</td> <td>male  </td> <td>0.42</td> <td>0    </td> <td>1    </td> <td>2625  </td> <td>8.5167 </td> <td>nan  </td> <td>C       </td> <td>1          </td>\n",
       "        </tr>\n",
       "        <tr>\n",
       "            <td>756        </td> <td>1       </td> <td>2              </td> <td>Hamalainen, Master. Viljo      </td> <td>male  </td> <td>0.67</td> <td>1    </td> <td>1    </td> <td>250649</td> <td>14.5   </td> <td>nan  </td> <td>S       </td> <td>2          </td>\n",
       "        </tr>\n",
       "        <tr>\n",
       "            <td>470        </td> <td>1       </td> <td>3              </td> <td>Baclini, Miss. Helene Barbara  </td> <td>female</td> <td>0.75</td> <td>2    </td> <td>1    </td> <td>2666  </td> <td>19.2583</td> <td>nan  </td> <td>C       </td> <td>3          </td>\n",
       "        </tr>\n",
       "        <tr>\n",
       "            <td>645        </td> <td>1       </td> <td>3              </td> <td>Baclini, Miss. Eugenie         </td> <td>female</td> <td>0.75</td> <td>2    </td> <td>1    </td> <td>2666  </td> <td>19.2583</td> <td>nan  </td> <td>C       </td> <td>3          </td>\n",
       "        </tr>\n",
       "        <tr>\n",
       "            <td>79         </td> <td>1       </td> <td>2              </td> <td>Caldwell, Master. Alden Gates  </td> <td>male  </td> <td>0.83</td> <td>0    </td> <td>2    </td> <td>248738</td> <td>29     </td> <td>nan  </td> <td>S       </td> <td>2          </td>\n",
       "        </tr>\n",
       "    </tbody>\n",
       "</table>\n",
       "<p>... (886 rows omitted)</p>"
      ],
      "text/plain": [
       "<IPython.core.display.HTML object>"
      ]
     },
     "metadata": {},
     "output_type": "display_data"
    }
   ],
   "source": [
    "titanic.sort('Age', descending=False).show(5)"
   ]
  },
  {
   "cell_type": "markdown",
   "metadata": {},
   "source": [
    "e)"
   ]
  },
  {
   "cell_type": "code",
   "execution_count": 27,
   "metadata": {},
   "outputs": [
    {
     "data": {
      "text/html": [
       "<table border=\"1\" class=\"dataframe\">\n",
       "    <thead>\n",
       "        <tr>\n",
       "            <th>PassengerId</th> <th>Survived</th> <th>passenger_class</th> <th>Name</th> <th>Sex</th> <th>Age</th> <th>SibSp</th> <th>Parch</th> <th>Ticket</th> <th>Fare</th> <th>Cabin</th> <th>Embarked</th> <th>family_size</th>\n",
       "        </tr>\n",
       "    </thead>\n",
       "    <tbody>\n",
       "        <tr>\n",
       "            <td>889        </td> <td>0       </td> <td>3              </td> <td>Johnston, Miss. Catherine Helen \"Carrie\"</td> <td>female</td> <td>nan </td> <td>1    </td> <td>2    </td> <td>W./C. 6607</td> <td>23.45 </td> <td>nan  </td> <td>S       </td> <td>3          </td>\n",
       "        </tr>\n",
       "        <tr>\n",
       "            <td>879        </td> <td>0       </td> <td>3              </td> <td>Laleff, Mr. Kristo                      </td> <td>male  </td> <td>nan </td> <td>0    </td> <td>0    </td> <td>349217    </td> <td>7.8958</td> <td>nan  </td> <td>S       </td> <td>0          </td>\n",
       "        </tr>\n",
       "        <tr>\n",
       "            <td>869        </td> <td>0       </td> <td>3              </td> <td>van Melkebeke, Mr. Philemon             </td> <td>male  </td> <td>nan </td> <td>0    </td> <td>0    </td> <td>345777    </td> <td>9.5   </td> <td>nan  </td> <td>S       </td> <td>0          </td>\n",
       "        </tr>\n",
       "        <tr>\n",
       "            <td>864        </td> <td>0       </td> <td>3              </td> <td>Sage, Miss. Dorothy Edith \"Dolly\"       </td> <td>female</td> <td>nan </td> <td>8    </td> <td>2    </td> <td>CA. 2343  </td> <td>69.55 </td> <td>nan  </td> <td>S       </td> <td>10         </td>\n",
       "        </tr>\n",
       "        <tr>\n",
       "            <td>860        </td> <td>0       </td> <td>3              </td> <td>Razi, Mr. Raihed                        </td> <td>male  </td> <td>nan </td> <td>0    </td> <td>0    </td> <td>2629      </td> <td>7.2292</td> <td>nan  </td> <td>C       </td> <td>0          </td>\n",
       "        </tr>\n",
       "    </tbody>\n",
       "</table>\n",
       "<p>... (886 rows omitted)</p>"
      ],
      "text/plain": [
       "<IPython.core.display.HTML object>"
      ]
     },
     "metadata": {},
     "output_type": "display_data"
    }
   ],
   "source": [
    "titanic.sort('Age', descending=True).show(5)"
   ]
  },
  {
   "cell_type": "code",
   "execution_count": 26,
   "metadata": {},
   "outputs": [
    {
     "data": {
      "text/html": [
       "<table border=\"1\" class=\"dataframe\">\n",
       "    <thead>\n",
       "        <tr>\n",
       "            <th>PassengerId</th> <th>Survived</th> <th>passenger_class</th> <th>Name</th> <th>Sex</th> <th>Age</th> <th>SibSp</th> <th>Parch</th> <th>Ticket</th> <th>Fare</th> <th>Cabin</th> <th>Embarked</th> <th>family_size</th>\n",
       "        </tr>\n",
       "    </thead>\n",
       "    <tbody>\n",
       "        <tr>\n",
       "            <td>631        </td> <td>1       </td> <td>1              </td> <td>Barkworth, Mr. Algernon Henry Wilson            </td> <td>male  </td> <td>80  </td> <td>0    </td> <td>0    </td> <td>27042      </td> <td>30     </td> <td>A23        </td> <td>S       </td> <td>0          </td>\n",
       "        </tr>\n",
       "        <tr>\n",
       "            <td>852        </td> <td>0       </td> <td>3              </td> <td>Svensson, Mr. Johan                             </td> <td>male  </td> <td>74  </td> <td>0    </td> <td>0    </td> <td>347060     </td> <td>7.775  </td> <td>nan        </td> <td>S       </td> <td>0          </td>\n",
       "        </tr>\n",
       "        <tr>\n",
       "            <td>494        </td> <td>0       </td> <td>1              </td> <td>Artagaveytia, Mr. Ramon                         </td> <td>male  </td> <td>71  </td> <td>0    </td> <td>0    </td> <td>PC 17609   </td> <td>49.5042</td> <td>nan        </td> <td>C       </td> <td>0          </td>\n",
       "        </tr>\n",
       "        <tr>\n",
       "            <td>97         </td> <td>0       </td> <td>1              </td> <td>Goldschmidt, Mr. George B                       </td> <td>male  </td> <td>71  </td> <td>0    </td> <td>0    </td> <td>PC 17754   </td> <td>34.6542</td> <td>A5         </td> <td>C       </td> <td>0          </td>\n",
       "        </tr>\n",
       "        <tr>\n",
       "            <td>117        </td> <td>0       </td> <td>3              </td> <td>Connors, Mr. Patrick                            </td> <td>male  </td> <td>70.5</td> <td>0    </td> <td>0    </td> <td>370369     </td> <td>7.75   </td> <td>nan        </td> <td>Q       </td> <td>0          </td>\n",
       "        </tr>\n",
       "        <tr>\n",
       "            <td>746        </td> <td>0       </td> <td>1              </td> <td>Crosby, Capt. Edward Gifford                    </td> <td>male  </td> <td>70  </td> <td>1    </td> <td>1    </td> <td>WE/P 5735  </td> <td>71     </td> <td>B22        </td> <td>S       </td> <td>2          </td>\n",
       "        </tr>\n",
       "        <tr>\n",
       "            <td>673        </td> <td>0       </td> <td>2              </td> <td>Mitchell, Mr. Henry Michael                     </td> <td>male  </td> <td>70  </td> <td>0    </td> <td>0    </td> <td>C.A. 24580 </td> <td>10.5   </td> <td>nan        </td> <td>S       </td> <td>0          </td>\n",
       "        </tr>\n",
       "        <tr>\n",
       "            <td>34         </td> <td>0       </td> <td>2              </td> <td>Wheadon, Mr. Edward H                           </td> <td>male  </td> <td>66  </td> <td>0    </td> <td>0    </td> <td>C.A. 24579 </td> <td>10.5   </td> <td>nan        </td> <td>S       </td> <td>0          </td>\n",
       "        </tr>\n",
       "        <tr>\n",
       "            <td>457        </td> <td>0       </td> <td>1              </td> <td>Millet, Mr. Francis Davis                       </td> <td>male  </td> <td>65  </td> <td>0    </td> <td>0    </td> <td>13509      </td> <td>26.55  </td> <td>E38        </td> <td>S       </td> <td>0          </td>\n",
       "        </tr>\n",
       "        <tr>\n",
       "            <td>281        </td> <td>0       </td> <td>3              </td> <td>Duane, Mr. Frank                                </td> <td>male  </td> <td>65  </td> <td>0    </td> <td>0    </td> <td>336439     </td> <td>7.75   </td> <td>nan        </td> <td>Q       </td> <td>0          </td>\n",
       "        </tr>\n",
       "        <tr>\n",
       "            <td>55         </td> <td>0       </td> <td>1              </td> <td>Ostby, Mr. Engelhart Cornelius                  </td> <td>male  </td> <td>65  </td> <td>0    </td> <td>1    </td> <td>113509     </td> <td>61.9792</td> <td>B30        </td> <td>C       </td> <td>1          </td>\n",
       "        </tr>\n",
       "        <tr>\n",
       "            <td>546        </td> <td>0       </td> <td>1              </td> <td>Nicholson, Mr. Arthur Ernest                    </td> <td>male  </td> <td>64  </td> <td>0    </td> <td>0    </td> <td>693        </td> <td>26     </td> <td>nan        </td> <td>S       </td> <td>0          </td>\n",
       "        </tr>\n",
       "        <tr>\n",
       "            <td>439        </td> <td>0       </td> <td>1              </td> <td>Fortune, Mr. Mark                               </td> <td>male  </td> <td>64  </td> <td>1    </td> <td>4    </td> <td>19950      </td> <td>263    </td> <td>C23 C25 C27</td> <td>S       </td> <td>5          </td>\n",
       "        </tr>\n",
       "        <tr>\n",
       "            <td>484        </td> <td>1       </td> <td>3              </td> <td>Turkula, Mrs. (Hedwig)                          </td> <td>female</td> <td>63  </td> <td>0    </td> <td>0    </td> <td>4134       </td> <td>9.5875 </td> <td>nan        </td> <td>S       </td> <td>0          </td>\n",
       "        </tr>\n",
       "        <tr>\n",
       "            <td>276        </td> <td>1       </td> <td>1              </td> <td>Andrews, Miss. Kornelia Theodosia               </td> <td>female</td> <td>63  </td> <td>1    </td> <td>0    </td> <td>13502      </td> <td>77.9583</td> <td>D7         </td> <td>S       </td> <td>1          </td>\n",
       "        </tr>\n",
       "        <tr>\n",
       "            <td>830        </td> <td>1       </td> <td>1              </td> <td>Stone, Mrs. George Nelson (Martha Evelyn)       </td> <td>female</td> <td>62  </td> <td>0    </td> <td>0    </td> <td>113572     </td> <td>80     </td> <td>B28        </td> <td>nan     </td> <td>0          </td>\n",
       "        </tr>\n",
       "        <tr>\n",
       "            <td>571        </td> <td>1       </td> <td>2              </td> <td>Harris, Mr. George                              </td> <td>male  </td> <td>62  </td> <td>0    </td> <td>0    </td> <td>S.W./PP 752</td> <td>10.5   </td> <td>nan        </td> <td>S       </td> <td>0          </td>\n",
       "        </tr>\n",
       "        <tr>\n",
       "            <td>556        </td> <td>0       </td> <td>1              </td> <td>Wright, Mr. George                              </td> <td>male  </td> <td>62  </td> <td>0    </td> <td>0    </td> <td>113807     </td> <td>26.55  </td> <td>nan        </td> <td>S       </td> <td>0          </td>\n",
       "        </tr>\n",
       "        <tr>\n",
       "            <td>253        </td> <td>0       </td> <td>1              </td> <td>Stead, Mr. William Thomas                       </td> <td>male  </td> <td>62  </td> <td>0    </td> <td>0    </td> <td>113514     </td> <td>26.55  </td> <td>C87        </td> <td>S       </td> <td>0          </td>\n",
       "        </tr>\n",
       "        <tr>\n",
       "            <td>626        </td> <td>0       </td> <td>1              </td> <td>Sutton, Mr. Frederick                           </td> <td>male  </td> <td>61  </td> <td>0    </td> <td>0    </td> <td>36963      </td> <td>32.3208</td> <td>D50        </td> <td>S       </td> <td>0          </td>\n",
       "        </tr>\n",
       "        <tr>\n",
       "            <td>327        </td> <td>0       </td> <td>3              </td> <td>Nysveen, Mr. Johan Hansen                       </td> <td>male  </td> <td>61  </td> <td>0    </td> <td>0    </td> <td>345364     </td> <td>6.2375 </td> <td>nan        </td> <td>S       </td> <td>0          </td>\n",
       "        </tr>\n",
       "        <tr>\n",
       "            <td>171        </td> <td>0       </td> <td>1              </td> <td>Van der hoef, Mr. Wyckoff                       </td> <td>male  </td> <td>61  </td> <td>0    </td> <td>0    </td> <td>111240     </td> <td>33.5   </td> <td>B19        </td> <td>S       </td> <td>0          </td>\n",
       "        </tr>\n",
       "        <tr>\n",
       "            <td>695        </td> <td>0       </td> <td>1              </td> <td>Weir, Col. John                                 </td> <td>male  </td> <td>60  </td> <td>0    </td> <td>0    </td> <td>113800     </td> <td>26.55  </td> <td>nan        </td> <td>S       </td> <td>0          </td>\n",
       "        </tr>\n",
       "        <tr>\n",
       "            <td>685        </td> <td>0       </td> <td>2              </td> <td>Brown, Mr. Thomas William Solomon               </td> <td>male  </td> <td>60  </td> <td>1    </td> <td>1    </td> <td>29750      </td> <td>39     </td> <td>nan        </td> <td>S       </td> <td>2          </td>\n",
       "        </tr>\n",
       "        <tr>\n",
       "            <td>588        </td> <td>1       </td> <td>1              </td> <td>Frolicher-Stehli, Mr. Maxmillian                </td> <td>male  </td> <td>60  </td> <td>1    </td> <td>1    </td> <td>13567      </td> <td>79.2   </td> <td>B41        </td> <td>C       </td> <td>2          </td>\n",
       "        </tr>\n",
       "        <tr>\n",
       "            <td>367        </td> <td>1       </td> <td>1              </td> <td>Warren, Mrs. Frank Manley (Anna Sophia Atkinson)</td> <td>female</td> <td>60  </td> <td>1    </td> <td>0    </td> <td>110813     </td> <td>75.25  </td> <td>D37        </td> <td>C       </td> <td>1          </td>\n",
       "        </tr>\n",
       "        <tr>\n",
       "            <td>233        </td> <td>0       </td> <td>2              </td> <td>Sjostedt, Mr. Ernst Adolf                       </td> <td>male  </td> <td>59  </td> <td>0    </td> <td>0    </td> <td>237442     </td> <td>13.5   </td> <td>nan        </td> <td>S       </td> <td>0          </td>\n",
       "        </tr>\n",
       "        <tr>\n",
       "            <td>95         </td> <td>0       </td> <td>3              </td> <td>Coxon, Mr. Daniel                               </td> <td>male  </td> <td>59  </td> <td>0    </td> <td>0    </td> <td>364500     </td> <td>7.25   </td> <td>nan        </td> <td>S       </td> <td>0          </td>\n",
       "        </tr>\n",
       "        <tr>\n",
       "            <td>660        </td> <td>0       </td> <td>1              </td> <td>Newell, Mr. Arthur Webster                      </td> <td>male  </td> <td>58  </td> <td>0    </td> <td>2    </td> <td>35273      </td> <td>113.275</td> <td>D48        </td> <td>C       </td> <td>2          </td>\n",
       "        </tr>\n",
       "        <tr>\n",
       "            <td>488        </td> <td>0       </td> <td>1              </td> <td>Kent, Mr. Edward Austin                         </td> <td>male  </td> <td>58  </td> <td>0    </td> <td>0    </td> <td>11771      </td> <td>29.7   </td> <td>B37        </td> <td>C       </td> <td>0          </td>\n",
       "        </tr>\n",
       "    </tbody>\n",
       "</table>\n",
       "<p>... (684 rows omitted)</p>"
      ],
      "text/plain": [
       "<IPython.core.display.HTML object>"
      ]
     },
     "metadata": {},
     "output_type": "display_data"
    }
   ],
   "source": [
    "titanic.where('Age', are.above(0)).sort('Age', descending=True).show(30) "
   ]
  },
  {
   "cell_type": "markdown",
   "metadata": {},
   "source": [
    "f)"
   ]
  },
  {
   "cell_type": "markdown",
   "metadata": {},
   "source": [
    "% of 1st class to survive"
   ]
  },
  {
   "cell_type": "code",
   "execution_count": 134,
   "metadata": {},
   "outputs": [
    {
     "data": {
      "text/plain": [
       "62.96296296296296"
      ]
     },
     "execution_count": 134,
     "metadata": {},
     "output_type": "execute_result"
    }
   ],
   "source": [
    "num_1class=titanic.where('passenger_class', are.equal_to(1)).num_rows\n",
    "num_1class_survive=titanic.where('passenger_class', are.equal_to(1)).where('Survived', are.equal_to(1)).num_rows\n",
    "percent_1stclass_survive=num_1class_survive/num_1class*100\n",
    "percent_1stclass_survive"
   ]
  },
  {
   "cell_type": "markdown",
   "metadata": {},
   "source": [
    "% of 2nd class to survive"
   ]
  },
  {
   "cell_type": "code",
   "execution_count": 135,
   "metadata": {},
   "outputs": [
    {
     "data": {
      "text/plain": [
       "47.28260869565217"
      ]
     },
     "execution_count": 135,
     "metadata": {},
     "output_type": "execute_result"
    }
   ],
   "source": [
    "num_2class=titanic.where('passenger_class', are.equal_to(2)).num_rows\n",
    "num_2class_survive=titanic.where('passenger_class', are.equal_to(2)).where('Survived', are.equal_to(1)).num_rows\n",
    "percent_2ndclass_survive=num_2class_survive/num_2class*100\n",
    "percent_2ndclass_survive"
   ]
  },
  {
   "cell_type": "markdown",
   "metadata": {},
   "source": [
    "% of 3rd class to survive"
   ]
  },
  {
   "cell_type": "code",
   "execution_count": 136,
   "metadata": {},
   "outputs": [
    {
     "data": {
      "text/plain": [
       "24.236252545824847"
      ]
     },
     "execution_count": 136,
     "metadata": {},
     "output_type": "execute_result"
    }
   ],
   "source": [
    "num_3class=titanic.where('passenger_class', are.equal_to(3)).num_rows\n",
    "num_3class_survive=titanic.where('passenger_class', are.equal_to(3)).where('Survived', are.equal_to(1)).num_rows\n",
    "percent_3rdclass_survive=num_3class_survive/num_3class*100\n",
    "percent_3rdclass_survive"
   ]
  },
  {
   "cell_type": "markdown",
   "metadata": {},
   "source": [
    "g)"
   ]
  },
  {
   "cell_type": "markdown",
   "metadata": {},
   "source": [
    "male/female survival rate?"
   ]
  },
  {
   "cell_type": "code",
   "execution_count": 137,
   "metadata": {},
   "outputs": [
    {
     "data": {
      "text/plain": [
       "18.890814558058924"
      ]
     },
     "execution_count": 137,
     "metadata": {},
     "output_type": "execute_result"
    }
   ],
   "source": [
    "num_male=titanic.where('Sex', are.equal_to('male')).num_rows\n",
    "num_male_survive=titanic.where('Sex', are.equal_to('male')).where('Survived', are.equal_to(1)).num_rows\n",
    "percent_male_survive=num_male_survive/num_male*100\n",
    "percent_male_survive"
   ]
  },
  {
   "cell_type": "code",
   "execution_count": 139,
   "metadata": {},
   "outputs": [
    {
     "data": {
      "text/plain": [
       "74.20382165605095"
      ]
     },
     "execution_count": 139,
     "metadata": {},
     "output_type": "execute_result"
    }
   ],
   "source": [
    "num_female=titanic.where('Sex', are.equal_to('female')).num_rows\n",
    "num_female_survive=titanic.where('Sex', are.equal_to('female')).where('Survived', are.equal_to(1)).num_rows\n",
    "percent_female_survive=num_female_survive/num_female*100\n",
    "percent_female_survive\n",
    "#Your welcome"
   ]
  },
  {
   "cell_type": "markdown",
   "metadata": {},
   "source": [
    "individual/family survival rate?"
   ]
  },
  {
   "cell_type": "code",
   "execution_count": 140,
   "metadata": {},
   "outputs": [
    {
     "data": {
      "text/plain": [
       "30.353817504655495"
      ]
     },
     "execution_count": 140,
     "metadata": {},
     "output_type": "execute_result"
    }
   ],
   "source": [
    "num_ind=titanic.where('family_size', are.equal_to(0)).num_rows\n",
    "num_ind_survive=titanic.where('family_size', are.equal_to(0)).where('Survived', are.equal_to(1)).num_rows\n",
    "percent_ind_survive=num_ind_survive/num_ind*100\n",
    "percent_ind_survive"
   ]
  },
  {
   "cell_type": "code",
   "execution_count": 141,
   "metadata": {},
   "outputs": [
    {
     "data": {
      "text/plain": [
       "50.56497175141242"
      ]
     },
     "execution_count": 141,
     "metadata": {},
     "output_type": "execute_result"
    }
   ],
   "source": [
    "num_fam=titanic.where('family_size', are.above(0)).num_rows\n",
    "num_fam_survive=titanic.where('family_size', are.above(0)).where('Survived', are.equal_to(1)).num_rows\n",
    "percent_fam_survive=num_fam_survive/num_fam*100\n",
    "percent_fam_survive"
   ]
  },
  {
   "cell_type": "markdown",
   "metadata": {},
   "source": [
    "# Lsn 4 HW Data Types"
   ]
  },
  {
   "cell_type": "markdown",
   "metadata": {},
   "source": [
    "1)"
   ]
  },
  {
   "cell_type": "code",
   "execution_count": 12,
   "metadata": {},
   "outputs": [],
   "source": [
    "name='Coen Williams'\n",
    "age=20\n",
    "hometown='Chamblee'"
   ]
  },
  {
   "cell_type": "code",
   "execution_count": 25,
   "metadata": {},
   "outputs": [
    {
     "name": "stdout",
     "output_type": "stream",
     "text": [
      "I am Coen Williams. I am 20 years old. I'm from Chamblee.\n"
     ]
    }
   ],
   "source": [
    "sentence=\"I am %s. I am %d years old. I'm from %s.\" %(name, age, hometown)\n",
    "print(sentence)"
   ]
  },
  {
   "cell_type": "markdown",
   "metadata": {},
   "source": [
    "a)"
   ]
  },
  {
   "cell_type": "code",
   "execution_count": 27,
   "metadata": {},
   "outputs": [
    {
     "name": "stdout",
     "output_type": "stream",
     "text": [
      "coen williams\n"
     ]
    }
   ],
   "source": [
    "lower_name=name.lower()\n",
    "print(lower_name)"
   ]
  },
  {
   "cell_type": "markdown",
   "metadata": {},
   "source": [
    "b)"
   ]
  },
  {
   "cell_type": "code",
   "execution_count": 28,
   "metadata": {},
   "outputs": [
    {
     "name": "stdout",
     "output_type": "stream",
     "text": [
      "Coen Williams\n"
     ]
    }
   ],
   "source": [
    "proper_noun_name=lower_name.title()\n",
    "print(proper_noun_name)"
   ]
  },
  {
   "cell_type": "markdown",
   "metadata": {},
   "source": [
    "2)"
   ]
  },
  {
   "cell_type": "code",
   "execution_count": 30,
   "metadata": {},
   "outputs": [
    {
     "name": "stdout",
     "output_type": "stream",
     "text": [
      "He is Coen Williams. He is 20 years old. He's from Chamblee.\n"
     ]
    }
   ],
   "source": [
    "a=sentence.replace(\"I am\", \"He is\").replace(\"I'm\", \"He's\")\n",
    "print(a)"
   ]
  },
  {
   "cell_type": "markdown",
   "metadata": {},
   "source": [
    "3)"
   ]
  },
  {
   "cell_type": "code",
   "execution_count": 33,
   "metadata": {},
   "outputs": [
    {
     "data": {
      "text/plain": [
       "False"
      ]
     },
     "execution_count": 33,
     "metadata": {},
     "output_type": "execute_result"
    }
   ],
   "source": [
    "length_of_org=len(sentence)\n",
    "length_of_org>(age+40)"
   ]
  }
 ],
 "metadata": {
  "kernelspec": {
   "display_name": "Python 3",
   "language": "python",
   "name": "python3"
  },
  "language_info": {
   "codemirror_mode": {
    "name": "ipython",
    "version": 3
   },
   "file_extension": ".py",
   "mimetype": "text/x-python",
   "name": "python",
   "nbconvert_exporter": "python",
   "pygments_lexer": "ipython3",
   "version": "3.6.5"
  }
 },
 "nbformat": 4,
 "nbformat_minor": 2
}
