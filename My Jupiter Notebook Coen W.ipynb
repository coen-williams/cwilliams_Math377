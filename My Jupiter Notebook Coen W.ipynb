{
 "cells": [
  {
   "cell_type": "markdown",
   "metadata": {},
   "source": [
    "# This is a heading! :) \n",
    "## No this is a heading\n",
    "### Nu-uh this is\n",
    "#### Hahaha im getting smaller\n",
    "##### Reaching my physical limits now\n",
    "###### Almost there\n",
    "####### There we go, termination\n",
    "This is my Jupyter notebook. "
   ]
  },
  {
   "cell_type": "code",
   "execution_count": 2,
   "metadata": {},
   "outputs": [
    {
     "name": "stdout",
     "output_type": "stream",
     "text": [
      "Hello World\n"
     ]
    }
   ],
   "source": [
    "print(\"Hello World\")"
   ]
  },
  {
   "cell_type": "markdown",
   "metadata": {},
   "source": [
    "Now I shall add two to too"
   ]
  },
  {
   "cell_type": "code",
   "execution_count": 3,
   "metadata": {},
   "outputs": [
    {
     "data": {
      "text/plain": [
       "4"
      ]
     },
     "execution_count": 3,
     "metadata": {},
     "output_type": "execute_result"
    }
   ],
   "source": [
    "2+2"
   ]
  },
  {
   "cell_type": "markdown",
   "metadata": {},
   "source": [
    "The answer is 4."
   ]
  },
  {
   "cell_type": "markdown",
   "metadata": {},
   "source": [
    "# Lsn 2 Questions\n",
    "1. Define Data Science: \n",
    "    The technical skills required to utilize statistics and computing in order to extrapolate conclusions or predictions from an     incomplete set of data.\n",
    "2. What are the 3 focus areas of this course:\n",
    "    Exploration, Inference, and Prediction.\n",
    "3. Install data science package. Check\n",
    "4. Do all three basic calculations in seperate boxes."
   ]
  },
  {
   "cell_type": "code",
   "execution_count": 3,
   "metadata": {},
   "outputs": [
    {
     "data": {
      "text/plain": [
       "2"
      ]
     },
     "execution_count": 3,
     "metadata": {},
     "output_type": "execute_result"
    }
   ],
   "source": [
    "1+1"
   ]
  },
  {
   "cell_type": "code",
   "execution_count": 4,
   "metadata": {},
   "outputs": [
    {
     "data": {
      "text/plain": [
       "0"
      ]
     },
     "execution_count": 4,
     "metadata": {},
     "output_type": "execute_result"
    }
   ],
   "source": [
    "1-1"
   ]
  },
  {
   "cell_type": "code",
   "execution_count": 5,
   "metadata": {},
   "outputs": [
    {
     "data": {
      "text/plain": [
       "1"
      ]
     },
     "execution_count": 5,
     "metadata": {},
     "output_type": "execute_result"
    }
   ],
   "source": [
    "1*1"
   ]
  },
  {
   "cell_type": "markdown",
   "metadata": {},
   "source": [
    "5. Print your name and then print a thumbsup sign after."
   ]
  },
  {
   "cell_type": "code",
   "execution_count": 9,
   "metadata": {},
   "outputs": [
    {
     "name": "stdout",
     "output_type": "stream",
     "text": [
      "Coen 👍\n"
     ]
    }
   ],
   "source": [
    "print(\"Coen \\N{thumbs up sign}\") "
   ]
  },
  {
   "cell_type": "markdown",
   "metadata": {},
   "source": [
    "6. How ice cream sales and violent crime related?\n",
    "    Ice cream sales do not neccessarily increase violent crime, this is purely correlation. Until we prove statistical               signifigance in a statistical test that tests this relationship acounting for all variables, can we call this causation.         There may be an outside variable that is causing both of these phenomenons.\n",
    "7. What is the differnece between an observational study and an experiment?\n",
    "    An observational study takes place in an uncontrolled environment and typically entails basic data collection or hypothesis forming, whereas an experiment is in a variable controlled environment in which all is controlled expcept for the specific independent variable, and is used to test for causation or influence using statistical signifigance."
   ]
  }
 ],
 "metadata": {
  "kernelspec": {
   "display_name": "Python 3",
   "language": "python",
   "name": "python3"
  },
  "language_info": {
   "codemirror_mode": {
    "name": "ipython",
    "version": 3
   },
   "file_extension": ".py",
   "mimetype": "text/x-python",
   "name": "python",
   "nbconvert_exporter": "python",
   "pygments_lexer": "ipython3",
   "version": "3.6.5"
  }
 },
 "nbformat": 4,
 "nbformat_minor": 2
}
