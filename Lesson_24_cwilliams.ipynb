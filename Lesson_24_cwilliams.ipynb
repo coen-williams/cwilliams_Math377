{
 "cells": [
  {
   "cell_type": "code",
   "execution_count": 1,
   "metadata": {},
   "outputs": [],
   "source": [
    "from datascience import *\n",
    "import numpy as np\n",
    "from math import *\n",
    "from scipy import stats\n",
    "import matplotlib.pyplot as plt\n",
    "%matplotlib inline"
   ]
  },
  {
   "cell_type": "markdown",
   "metadata": {},
   "source": [
    "## Lesson 24: Hypothesis Testing Errors & Power"
   ]
  },
  {
   "cell_type": "markdown",
   "metadata": {},
   "source": [
    "Throughout this block, we have been studying hypothesis tests. We have covered the four basic steps of any hypothesis test, and we have practiced various methods for obtaining the distribution of our test statistic under the null hypothesis. \n",
    "\n",
    "After we have reached a conclusion (reject or fail to reject), we must consider possible errors. \n",
    "\n",
    "### Type I error \n",
    "\n",
    "Type I error is the event that we rejected the null hypothesis when the null hypothesis was actually true. Type I error is also known as a false positive. The probability of a Type I error is usually defined by the threshold used for rejection. A common threshold is 0.05. Those of you who have taken statistics before may recognize this value as $\\alpha$. \n",
    "\n",
    "### Type II error\n",
    "\n",
    "Type II error is the event that we failed to reject the null hypothesis when the null hypothesis was actually false. This is otherwise known as a false negative. The probability of a Type II error is harder to find and requires a more in-depth analysis of a hypothesis test. The probability of a Type II error is often given as $\\beta$, and $1-\\beta$ is referred to as **Power**. The power of a test is probability that we will reject the null hypothesis when we are supposed to. \n",
    "\n",
    "Which one of these errors is more serious? It depends on the context of the problem. "
   ]
  },
  {
   "cell_type": "markdown",
   "metadata": {},
   "source": [
    "### Example: Golf Balls\n",
    "\n",
    "Joe has a summer job at a golf course and one of his jobs is to fish out golf balls from the water traps. He has a theory that certain types of golf ball are more likely to end up in the water than others. Let's assume there are four brands of golf ball, let's and assume that all four are used equally at this golf course. He fishes out 100 golf balls and counts each brand. He finds 30 of brand A, 30 of brand B, 20 of brand C and 20 of brand D. Conduct a hypothesis test to determine whether certain types of golf ball are more likely than others to end up in the water."
   ]
  },
  {
   "cell_type": "code",
   "execution_count": 4,
   "metadata": {},
   "outputs": [],
   "source": [
    "Count_A=30\n",
    "Count_B=30\n",
    "Count_C=20\n",
    "Count_D=20"
   ]
  },
  {
   "cell_type": "markdown",
   "metadata": {},
   "source": [
    "Step 1: Hypotheses\n",
    "\n",
    "The null hypothesis H_o is that the four brands of golfballs are equally likely to end up in the water.\n",
    "\n",
    "Our four alternate hypothesis H_a, H_b, H_c, H_d, are that eithe brand A, B, C, or D are more likely to end up in the water than others."
   ]
  },
  {
   "cell_type": "markdown",
   "metadata": {},
   "source": [
    "Step 2: Test statistic\n",
    "\n",
    "There are many correct answers, but let's go with sum of absolute difference between observed and expected counts under $H_0$. To do this, we need to find the expected counts. If each ball was equally likely, how many should we expected to find of each if we select 100 golf balls? "
   ]
  },
  {
   "cell_type": "code",
   "execution_count": 3,
   "metadata": {},
   "outputs": [
    {
     "name": "stdout",
     "output_type": "stream",
     "text": [
      "Brand A: 25.0 Brand B: 25.0 Brand C: 25.0 Brand D: 25.0\n"
     ]
    }
   ],
   "source": [
    "#There is an equal probability of each ball to go into the water\n",
    "P_a, P_b, P_c, P_d=.25, .25, .25, .25\n",
    "#Thus the number of each brand, and we expect to see in the water is:\n",
    "Expected_A=P_a*100\n",
    "Expected_B=P_b*100\n",
    "Expected_C=P_c*100\n",
    "Expected_D=P_d*100\n",
    "print('Brand A:', Expected_A, 'Brand B:', Expected_B, 'Brand C:', Expected_C, 'Brand D:', Expected_D)"
   ]
  },
  {
   "cell_type": "markdown",
   "metadata": {},
   "source": [
    "Step 3: $p$-value\n",
    "\n",
    "We need the distribution of the test statistic under $H_0$. "
   ]
  },
  {
   "cell_type": "code",
   "execution_count": 28,
   "metadata": {},
   "outputs": [
    {
     "name": "stdout",
     "output_type": "stream",
     "text": [
      "Joes sample test statistic is: 20.0\n"
     ]
    }
   ],
   "source": [
    "#under H_o, our test statistic for Joe's sample is:\n",
    "sample_test_stat=abs(Count_A-Expected_A)+abs(Count_B-Expected_B)+abs(Count_C-Expected_C)+abs(Count_D-Expected_D)\n",
    "print('Joes sample test statistic is:', sample_test_stat)"
   ]
  },
  {
   "cell_type": "code",
   "execution_count": 29,
   "metadata": {},
   "outputs": [
    {
     "name": "stdout",
     "output_type": "stream",
     "text": [
      "Joes test statistic has a p-value of: 18.56 %\n"
     ]
    }
   ],
   "source": [
    "#Now to create a simulation of test statistics to find the p-value using a multinomial distribution:\n",
    "\n",
    "ts = []\n",
    "for i in np.arange(10000):\n",
    "    rs =stats.multinomial.rvs(100,[0.25,0.25,0.25,0.25],size=1)\n",
    "    ts = np.append(ts,sum(abs(sum(rs)-25)))\n",
    "p_val=np.mean(ts>=sample_test_stat)\n",
    "print('Joes test statistic has a p-value of:', p_val*100, '%')"
   ]
  },
  {
   "cell_type": "code",
   "execution_count": 30,
   "metadata": {},
   "outputs": [
    {
     "ename": "NameError",
     "evalue": "name 'plot' is not defined",
     "output_type": "error",
     "traceback": [
      "\u001b[1;31m---------------------------------------------------------------------------\u001b[0m",
      "\u001b[1;31mNameError\u001b[0m                                 Traceback (most recent call last)",
      "\u001b[1;32m<ipython-input-30-b7f931271ab4>\u001b[0m in \u001b[0;36m<module>\u001b[1;34m()\u001b[0m\n\u001b[0;32m      1\u001b[0m \u001b[0mplt\u001b[0m\u001b[1;33m.\u001b[0m\u001b[0mhist\u001b[0m\u001b[1;33m(\u001b[0m\u001b[0mts\u001b[0m\u001b[1;33m)\u001b[0m\u001b[1;33m\u001b[0m\u001b[0m\n\u001b[1;32m----> 2\u001b[1;33m \u001b[0mplot\u001b[0m\u001b[1;33m.\u001b[0m\u001b[0mshow\u001b[0m\u001b[1;33m(\u001b[0m\u001b[1;33m)\u001b[0m\u001b[1;33m\u001b[0m\u001b[0m\n\u001b[0m",
      "\u001b[1;31mNameError\u001b[0m: name 'plot' is not defined"
     ]
    },
    {
     "data": {
      "image/png": "[encoded data removed]",
      "text/plain": [
       "<Figure size 432x288 with 1 Axes>"
      ]
     },
     "metadata": {},
     "output_type": "display_data"
    }
   ],
   "source": [
    "plt.hist(ts)\n",
    "plot.show()"
   ]
  },
  {
   "cell_type": "markdown",
   "metadata": {},
   "source": [
    "Step 4: Conclude\n",
    "\n",
    "We fail to reject the null-hypothesis, because the p-value of Joe's test statistic was well within our confidence interval of 5%, and is therefore a likely result."
   ]
  },
  {
   "cell_type": "markdown",
   "metadata": {},
   "source": [
    "What kind of error could we have made in this case? "
   ]
  },
  {
   "cell_type": "markdown",
   "metadata": {},
   "source": [
    "We could have made a type-2 error, a false negative, because we failed to reject the null hypothesis."
   ]
  },
  {
   "cell_type": "markdown",
   "metadata": {},
   "source": [
    "#### Power \n",
    "Suppose that, in truth, 30% of the balls found in the water were brand A, 30% were brand B, 20% were brand C and 20% were brand D. In this case, our collected sample reflected this truth perfectly. However, our hypothesis test failed to recognize this deviation from equal proportions. We made a type II error. This is because this test has fairly low power. Use simulation to determine the power of this test. "
   ]
  },
  {
   "cell_type": "markdown",
   "metadata": {},
   "source": [
    "I am looking for the probability that I reject the null hypothesis given the true proportions laid out above. Well, first I need to figure out for what values of my test statistic I would reject $H_0$. "
   ]
  },
  {
   "cell_type": "code",
   "execution_count": 32,
   "metadata": {},
   "outputs": [
    {
     "name": "stdout",
     "output_type": "stream",
     "text": [
      "We would reject any test statistics outside of the following interval: [ 4.0 , 24.0 ]\n"
     ]
    }
   ],
   "source": [
    "upper_bound=percentile(95, ts)\n",
    "lower_bound=percentile(5, ts)\n",
    "print('We would reject any test statistics outside of the following interval: [', lower_bound, ',', upper_bound, ']' )"
   ]
  },
  {
   "cell_type": "markdown",
   "metadata": {},
   "source": [
    "Next, I need to simulate from the true population and determine how often my test statistic would have met this threshold. "
   ]
  },
  {
   "cell_type": "code",
   "execution_count": 35,
   "metadata": {},
   "outputs": [],
   "source": [
    "tsp = []\n",
    "for i in np.arange(10000):\n",
    "    rsp =stats.multinomial.rvs(100,[0.3,0.3,0.2,0.2],size=1)\n",
    "    tsp = np.append(tsp,sum(abs(sum(rsp)-25)))"
   ]
  },
  {
   "cell_type": "code",
   "execution_count": 36,
   "metadata": {},
   "outputs": [
    {
     "data": {
      "image/png": "[encoded data removed]",
      "text/plain": [
       "<Figure size 432x288 with 1 Axes>"
      ]
     },
     "metadata": {},
     "output_type": "display_data"
    }
   ],
   "source": [
    "plt.hist(tsp)\n",
    "plt.show()"
   ]
  },
  {
   "cell_type": "code",
   "execution_count": 42,
   "metadata": {},
   "outputs": [
    {
     "name": "stdout",
     "output_type": "stream",
     "text": [
      "We found a power of:  0.3485\n"
     ]
    }
   ],
   "source": [
    "power=np.mean(tsp>=(upper_bound+1))\n",
    "print('We found a power of: ', power)"
   ]
  },
  {
   "cell_type": "markdown",
   "metadata": {},
   "source": [
    "What do you think about this power? "
   ]
  },
  {
   "cell_type": "markdown",
   "metadata": {},
   "source": [
    "We have found that there will only find a considerable difference between the actual sample vs. the null hypothesis simulations 34.85% of the time. A low power value is influenced by the data being close to each other in value, a smaller threshold, and sample size."
   ]
  },
  {
   "cell_type": "markdown",
   "metadata": {},
   "source": [
    "Repeat this power calculation, but assume Joe collects 500 balls instead of 100. Note that you will have to obtain a new critical value. What does this tell you about power and sample size?"
   ]
  },
  {
   "cell_type": "code",
   "execution_count": 43,
   "metadata": {},
   "outputs": [],
   "source": [
    "ts500 = []\n",
    "for i in np.arange(10000):\n",
    "    rs =stats.multinomial.rvs(500,[0.25,0.25,0.25,0.25],size=1)\n",
    "    ts500 = np.append(ts500,sum(abs(sum(rs)-125)))"
   ]
  },
  {
   "cell_type": "code",
   "execution_count": 44,
   "metadata": {},
   "outputs": [
    {
     "data": {
      "image/png": "[encoded data removed]",
      "text/plain": [
       "<Figure size 432x288 with 1 Axes>"
      ]
     },
     "metadata": {},
     "output_type": "display_data"
    }
   ],
   "source": [
    "plt.hist(ts500)\n",
    "plt.show()"
   ]
  },
  {
   "cell_type": "code",
   "execution_count": 50,
   "metadata": {},
   "outputs": [
    {
     "name": "stdout",
     "output_type": "stream",
     "text": [
      "The test statistic for which we will reject is:  54.0\n"
     ]
    }
   ],
   "source": [
    "upper_bound_500=percentile(95,ts500)\n",
    "pval_500=np.mean(ts500>=(upper_bound_500+1))\n",
    "print('The test statistic for which we will reject is: ', upper_bound_500)"
   ]
  },
  {
   "cell_type": "code",
   "execution_count": 51,
   "metadata": {},
   "outputs": [
    {
     "name": "stdout",
     "output_type": "stream",
     "text": [
      "The power of the same test, with a larger sample size of 500 is: 0.9811\n"
     ]
    }
   ],
   "source": [
    "ts500p = []\n",
    "for i in np.arange(10000):\n",
    "    rs =stats.multinomial.rvs(500,[0.3,0.3,0.2,0.2],size=1)\n",
    "    ts500p = np.append(ts500p,sum(abs(sum(rs)-125)))\n",
    "power_500=np.mean(ts500p >= 55)\n",
    "print('The power of the same test, with a larger sample size of 500 is:', power_500)"
   ]
  },
  {
   "cell_type": "markdown",
   "metadata": {},
   "source": [
    "We find that power and sample size are directly related, an increase in sample size will increase the power. Thus with a larger sample size, it is easier to detect a difference between null simulation and test results."
   ]
  }
 ],
 "metadata": {
  "kernelspec": {
   "display_name": "Python 3",
   "language": "python",
   "name": "python3"
  },
  "language_info": {
   "codemirror_mode": {
    "name": "ipython",
    "version": 3
   },
   "file_extension": ".py",
   "mimetype": "text/x-python",
   "name": "python",
   "nbconvert_exporter": "python",
   "pygments_lexer": "ipython3",
   "version": "3.6.5"
  }
 },
 "nbformat": 4,
 "nbformat_minor": 2
}
