{
 "cells": [
  {
   "cell_type": "code",
   "execution_count": 1,
   "metadata": {},
   "outputs": [],
   "source": [
    "from datascience import *\n",
    "import numpy as np\n",
    "from math import *\n",
    "from scipy import stats\n",
    "import matplotlib.pyplot as plt\n",
    "%matplotlib inline"
   ]
  },
  {
   "cell_type": "markdown",
   "metadata": {},
   "source": [
    "## Lesson 32: Likelihood Ratio Tests"
   ]
  },
  {
   "cell_type": "markdown",
   "metadata": {},
   "source": [
    "Last time, we introduced Likelihood Ratio tests. Recall that the point of a likelihood ratio test is to compare the likelihood function under a hypothesized value of the parameter with the liklihood function at its maximum. Instead of looking at the ratio $\\Lambda$ itself, we often consider $-2\\log \\Lambda$ instead, since it has a handy distribution. \n",
    "\n",
    "### Example 1: Exponential Distribution\n",
    "\n",
    "Suppose $X_1,X_2,...,X_n$ is an iid sequence of random variables from the exponential distribution with unknown parameter $\\lambda$. Recall that the maximum likelihood estimate of $\\lambda$ is $1\\over\\bar{X}$. We collect a random sample of size 20 and want to test the hypothesis $H_0: \\lambda = 3$ vs $H_1: \\lambda \\neq 3$. Using the data in the python box below, conduct a likelihood ratio test on this hypothesis.  "
   ]
  },
  {
   "cell_type": "markdown",
   "metadata": {},
   "source": [
    "$$\n",
    "L(\\theta\\mid \\textbf{x}) = \\prod_{i=1}^n f(x_i;\\theta) = \\prod_{i=1}^n {\\lambda^{X_i} e^{-\\lambda} \\over X_i !}\n",
    "= \\lambda^n e^{-\\lambda \\sum x_i}\n",
    "$$"
   ]
  },
  {
   "cell_type": "code",
   "execution_count": 13,
   "metadata": {},
   "outputs": [
    {
     "data": {
      "text/plain": [
       "20"
      ]
     },
     "execution_count": 13,
     "metadata": {},
     "output_type": "execute_result"
    }
   ],
   "source": [
    "my_data=np.array([0.18,0.277,0.105,0.126,0.225,0.026,0.123,0.423,0.006,0.281,0.050,0.692,0.105,0.275,0.346,0.079,0.045,0.222,0.063,0.281])\n",
    "len(my_data)"
   ]
  },
  {
   "cell_type": "code",
   "execution_count": 30,
   "metadata": {},
   "outputs": [
    {
     "name": "stdout",
     "output_type": "stream",
     "text": [
      "Our Max Likelihood lambda is: 5.089058524173028\n",
      "We are testing this agianst our hypothesis lambda= 3\n",
      "LRTS: 0.0944569427967816 Chi(1) value: 4.719222360188458\n",
      "Using a 5% confidence, our critical chi squared value is: 3.841458820694124\n",
      "Our LRS p-value is: 0.9701689134021486\n"
     ]
    }
   ],
   "source": [
    "ML_lam=1/np.mean(my_data)\n",
    "print('Our Max Likelihood lambda is:', ML_lam)\n",
    "\n",
    "hyp_lam=3 #what we are testing\n",
    "print('We are testing this agianst our hypothesis lambda=', hyp_lam)\n",
    "n=len(my_data) #trials\n",
    "    \n",
    "hyp_like=hyp_lam**(n)*e**(-1*hyp_lam*sum(my_data))\n",
    "\n",
    "ML_like=ML_lam**(n)*e**(-1*ML_lam*sum(my_data))\n",
    "\n",
    "LRTS=hyp_like/ML_like\n",
    "chi1=-2*log(LRTS)\n",
    "print('LRTS:', LRTS, 'Chi(1) value:', chi1)\n",
    "crit=stats.chi2.ppf(.95, 1)\n",
    "print('Using a 5% confidence, our critical chi squared value is:', crit)\n",
    "print('Our LRS p-value is:', stats.chi2.cdf(4.719, 1))"
   ]
  },
  {
   "cell_type": "markdown",
   "metadata": {},
   "source": [
    "Thus we reject the null hypothesis that $\\lambda=3$, because our test chi squared valueof 4.719 falls outside of our 95% confidence chi squared value of 3.84."
   ]
  },
  {
   "cell_type": "markdown",
   "metadata": {},
   "source": [
    "#### Power\n",
    "\n",
    "Suppose that the true value of $\\lambda$ is 5. Let's determine the power of this test. Let $n=20$. Then determine the power if $n=50$. Remember, power is the probability of correctly rejecting the null hypothesis. "
   ]
  },
  {
   "cell_type": "markdown",
   "metadata": {},
   "source": [
    "First, find what value of $-2 \\log \\Lambda$ would lead you to reject $H_0$. This is sometimes called the critical value. "
   ]
  },
  {
   "cell_type": "code",
   "execution_count": 7,
   "metadata": {},
   "outputs": [
    {
     "data": {
      "text/plain": [
       "3.841458820694124"
      ]
     },
     "execution_count": 7,
     "metadata": {},
     "output_type": "execute_result"
    }
   ],
   "source": [
    "crit=stats.chi2.ppf(.95, 1)\n",
    "crit"
   ]
  },
  {
   "cell_type": "markdown",
   "metadata": {},
   "source": [
    "Next, obtain the power. Obtain a sample of size 20 from the true population and obtain the value of $-2\\log \\Lambda$ for this sample. Repeat many times and determine how often you reject the null hypothesis. "
   ]
  },
  {
   "cell_type": "code",
   "execution_count": 12,
   "metadata": {},
   "outputs": [
    {
     "data": {
      "text/plain": [
       "5.443829426869639"
      ]
     },
     "execution_count": 12,
     "metadata": {},
     "output_type": "execute_result"
    }
   ],
   "source": [
    "n=20\n",
    "lam0=3\n",
    "ts=[]\n",
    "for _ in np.arange(10000):\n",
    "    my_data=stats.expon.rvs(size=n, scale= 1/5)\n",
    "    test_stat=-2*log((np.mean(my_data)**n)*(lam0**n)*e**(-lam0*sum(my_data)+n))\n",
    "    ts=np.append(ts, test_stat)\n",
    "np.mean(ts)"
   ]
  },
  {
   "cell_type": "markdown",
   "metadata": {},
   "source": [
    "Repeat for a sample size of 50. What do you expect to happen to power? "
   ]
  },
  {
   "cell_type": "code",
   "execution_count": 11,
   "metadata": {},
   "outputs": [
    {
     "data": {
      "text/plain": [
       "12.10003418365914"
      ]
     },
     "execution_count": 11,
     "metadata": {},
     "output_type": "execute_result"
    }
   ],
   "source": [
    "n=50\n",
    "lam0=3\n",
    "ts=[]\n",
    "for _ in np.arange(10000):\n",
    "    my_data=stats.expon.rvs(size=n, scale= 1/5)\n",
    "    test_stat=-2*log((np.mean(my_data)**n)*(lam0**n)*e**(-lam0*sum(my_data)+n))\n",
    "    ts=np.append(ts, test_stat)\n",
    "np.mean(ts)"
   ]
  },
  {
   "cell_type": "markdown",
   "metadata": {},
   "source": [
    "We expect the power to increase as we increase our sample size. This is exactly what happens. Keeping everything constant, but increasing the sample size, our mean test statistic rises, meaning it is more probable that there will not be a false \"fail to reject\" on the null hypothesis."
   ]
  },
  {
   "cell_type": "markdown",
   "metadata": {},
   "source": [
    "### A Different Test\n",
    "\n",
    "We've explored hypothesis tests in this class before. Taking advantage of our computing power, we don't have to rely on test statistics with asymptotic distributions. Let's conduct a more direct hypothesis test using simulation. Recall:\n",
    "\n",
    "$$\n",
    "H_0: \\lambda = 3\n",
    "$$\n",
    "\n",
    "$$\n",
    "H_1: \\lambda \\neq 3\n",
    "$$\n",
    "\n",
    "Pick a different test statistic. Obtain an empirical distribution of that test statistic under $H_0$. Next, find the $p$-value by determining how often this test statistic is at or further away from the test statistic derived from the sample. Remember that this is a two-sided test. "
   ]
  },
  {
   "cell_type": "markdown",
   "metadata": {},
   "source": [
    "My test statistic will be the Max Likelihood lambda value from a sample without replacement from my_data.\n",
    "<dv>\n",
    "If lambda is equal to 3, we should expect only about 50% of the data to be above or below it."
   ]
  },
  {
   "cell_type": "code",
   "execution_count": 28,
   "metadata": {},
   "outputs": [
    {
     "data": {
      "text/plain": [
       "0.9994"
      ]
     },
     "execution_count": 28,
     "metadata": {},
     "output_type": "execute_result"
    }
   ],
   "source": [
    "n=20\n",
    "ML_lams=[]\n",
    "for i in np.arange(10000):\n",
    "    ts=1/(np.mean(np.random.choice(my_data, n, replace=True)))\n",
    "    ML_lams=np.append(ML_lams, ts)\n",
    "if np.mean(ML_lams)>=3:\n",
    "    p_val=sum(ML_lams>3)/10000\n",
    "else:\n",
    "    p_val=sum(ML_lams<3)/10000\n",
    "p_val"
   ]
  },
  {
   "cell_type": "markdown",
   "metadata": {},
   "source": [
    "How did the $p$-value compare to the LRT $p$-value? I wonder how the power of this test compares to our LRT. "
   ]
  },
  {
   "cell_type": "markdown",
   "metadata": {},
   "source": [
    "This p-value was much closer to 1 than our LRT p-value, even though both of them reject the null hypothesis."
   ]
  },
  {
   "cell_type": "markdown",
   "metadata": {},
   "source": [
    "#### Power\n",
    "\n",
    "Let's figure out the power of this test. First, determine for what values of the test statistic would lead us to reject $H_0$. These values can be referred to as your rejection region. "
   ]
  },
  {
   "cell_type": "code",
   "execution_count": 141,
   "metadata": {},
   "outputs": [],
   "source": [
    "hyp_true_data=[]\n",
    "for i in np.arange(10000):\n",
    "    ts=1/np.mean(stats.expon.rvs(scale=1/3, size=20))\n",
    "    hyp_true_data=np.append(hyp_true_data, ts)"
   ]
  },
  {
   "cell_type": "code",
   "execution_count": 142,
   "metadata": {},
   "outputs": [
    {
     "name": "stdout",
     "output_type": "stream",
     "text": [
      "0.0522 0.0577\n",
      "We will reject outside of the interval of: ( 2.17 , 4.5 )\n"
     ]
    }
   ],
   "source": [
    "upper_reject=4.5\n",
    "lower_reject=2.17\n",
    "upper_val=sum((hyp_true_data)>upper_reject)/10000\n",
    "lower_val=sum((hyp_true_data)<lower_reject)/10000\n",
    "print(upper_val, lower_val)\n",
    "print('We will reject outside of the interval of: (', lower_reject, ',', upper_reject, ')')"
   ]
  },
  {
   "cell_type": "markdown",
   "metadata": {},
   "source": [
    "Now, determine the power of this test. Like in the LRT case, obtain a sample of size 20 and obtain the test statistic. Repeat many times and see how often your test statistic is in your rejection region. "
   ]
  },
  {
   "cell_type": "code",
   "execution_count": 143,
   "metadata": {},
   "outputs": [
    {
     "data": {
      "text/plain": [
       "0.7724"
      ]
     },
     "execution_count": 143,
     "metadata": {},
     "output_type": "execute_result"
    }
   ],
   "source": [
    "n=20\n",
    "ML_lams=[]\n",
    "reject=[]\n",
    "for i in np.arange(10000):\n",
    "    ts=1/(np.mean(np.random.choice(my_data, n, replace=True)))\n",
    "    ML_lams=np.append(ML_lams, ts)\n",
    "    if (upper_reject < ts) or (lower_reject > ts):\n",
    "        reject=np.append(reject, True)\n",
    "    else:\n",
    "        reject=np.append(reject, False)\n",
    "sum(reject)/10000"
   ]
  },
  {
   "cell_type": "markdown",
   "metadata": {},
   "source": [
    "Repeat for a sample size of 50. Note that you will have to obtain new critical values in order to do this.  "
   ]
  },
  {
   "cell_type": "code",
   "execution_count": 144,
   "metadata": {},
   "outputs": [],
   "source": [
    "hyp_true_data=[]\n",
    "for i in np.arange(10000):\n",
    "    ts=1/np.mean(stats.expon.rvs(scale=1/3, size=50))\n",
    "    hyp_true_data=np.append(hyp_true_data, ts)"
   ]
  },
  {
   "cell_type": "code",
   "execution_count": 145,
   "metadata": {},
   "outputs": [
    {
     "name": "stdout",
     "output_type": "stream",
     "text": [
      "0.0523 0.0588\n",
      "We will reject outside of the interval of: ( 2.43 , 3.86 )\n"
     ]
    }
   ],
   "source": [
    "upper_reject_50=3.86\n",
    "lower_reject_50=2.43\n",
    "upper_val=sum((hyp_true_data)>upper_reject_50)/10000\n",
    "lower_val=sum((hyp_true_data)<lower_reject_50)/10000\n",
    "print(upper_val, lower_val)\n",
    "print('We will reject outside of the interval of: (', lower_reject_50, ',', upper_reject_50, ')')"
   ]
  },
  {
   "cell_type": "code",
   "execution_count": 146,
   "metadata": {},
   "outputs": [
    {
     "data": {
      "text/plain": [
       "0.9949"
      ]
     },
     "execution_count": 146,
     "metadata": {},
     "output_type": "execute_result"
    }
   ],
   "source": [
    "n=50\n",
    "ML_lams=[]\n",
    "reject=[]\n",
    "for i in np.arange(10000):\n",
    "    ts=1/(np.mean(np.random.choice(my_data, n, replace=True)))\n",
    "    ML_lams=np.append(ML_lams, ts)\n",
    "    if (upper_reject_50 < ts) or (lower_reject_50 > ts):\n",
    "        reject=np.append(reject, True)\n",
    "    else:\n",
    "        reject=np.append(reject, False)\n",
    "sum(reject)/10000"
   ]
  },
  {
   "cell_type": "markdown",
   "metadata": {},
   "source": [
    "It is very clear to see that we reject many more of the test statistics when the sample size increases."
   ]
  }
 ],
 "metadata": {
  "kernelspec": {
   "display_name": "Python 3",
   "language": "python",
   "name": "python3"
  },
  "language_info": {
   "codemirror_mode": {
    "name": "ipython",
    "version": 3
   },
   "file_extension": ".py",
   "mimetype": "text/x-python",
   "name": "python",
   "nbconvert_exporter": "python",
   "pygments_lexer": "ipython3",
   "version": "3.6.5"
  }
 },
 "nbformat": 4,
 "nbformat_minor": 2
}
