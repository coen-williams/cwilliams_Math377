{
 "cells": [
  {
   "cell_type": "code",
   "execution_count": 1,
   "metadata": {},
   "outputs": [],
   "source": [
    "from datascience import *\n",
    "import numpy as np\n",
    "from math import *"
   ]
  },
  {
   "cell_type": "markdown",
   "metadata": {},
   "source": [
    "## Joint Distributions"
   ]
  },
  {
   "cell_type": "markdown",
   "metadata": {},
   "source": [
    "Recall from Lessons 13 & 14: let $X$ be a random variable. $X$ has a distribution that is described by a probability mass function (pmf) or probability density function (pdf). \n",
    "\n",
    "We can consider multiple random variables simultaneously using joint distributions. \n",
    "\n",
    "NOTE: When answering the questions below, you are not required to use Python. If you would like to answer in Markdown, feel free to change the type of the cell, or to use both types of cells. "
   ]
  },
  {
   "cell_type": "markdown",
   "metadata": {},
   "source": [
    "#### Example 1: Discrete Joint Distribution"
   ]
  },
  {
   "cell_type": "markdown",
   "metadata": {},
   "source": [
    "Let $X$ and $Y$ be discrete random variables that can each only take the values 0, 1 or 2, and do so according to the following distribution:"
   ]
  },
  {
   "cell_type": "markdown",
   "metadata": {},
   "source": [
    "\n",
    " |  | $X$  | 1 | 2 | 3 |\n",
    " |-- | ------ | ------ |\n",
    " |  | 1 | 0.17 | 0.15 | 0.08 |\n",
    " | $Y$ | 2 | 0.00 | 0.10 | 0.10 |\n",
    " |  | 3 | 0.08 | 0.20 | 0.12 |\n",
    " \n"
   ]
  },
  {
   "cell_type": "markdown",
   "metadata": {},
   "source": [
    "This is an example of a joint probability mass function (joint pmf), and is denoted as $f_{X,Y}(x,y)$. \n",
    "\n",
    "For example, the probability that $X$ takes the value 1 AND $Y$ takes the value 3, or $P(X=1,Y=3)$ is equal to 0.08. "
   ]
  },
  {
   "cell_type": "markdown",
   "metadata": {},
   "source": [
    "**_1.1_** Find $P(X = 2,Y=3)$. \n",
    "\n",
    "**_1.2_** Find $E(X+Y)$. "
   ]
  },
  {
   "cell_type": "code",
   "execution_count": 2,
   "metadata": {},
   "outputs": [
    {
     "name": "stdout",
     "output_type": "stream",
     "text": [
      "P(X=2, Y=3)= 0.2\n"
     ]
    }
   ],
   "source": [
    "print('P(X=2, Y=3)=', .2)"
   ]
  },
  {
   "cell_type": "code",
   "execution_count": 84,
   "metadata": {},
   "outputs": [
    {
     "name": "stdout",
     "output_type": "stream",
     "text": [
      "E(X+Y)= 4.05\n"
     ]
    }
   ],
   "source": [
    "print('E(X+Y)=', 2*.17+.15*3+4*(.08+.1+.08)+5*(.1+.2)+6*(.12))"
   ]
  },
  {
   "cell_type": "markdown",
   "metadata": {},
   "source": [
    "### Marginal Probability"
   ]
  },
  {
   "cell_type": "markdown",
   "metadata": {},
   "source": [
    "When given a joint pmf like this, we may want to know the distribution of $X$ or $Y$ individually. Specifically, we might want to know $P(X=1)$ or $f_Y(y)$. \n",
    "\n",
    "Marginal probability can be found by summing across the remaining variable. Specifically,\n",
    "\n",
    "$$\n",
    "f_X(x)=\\sum_y f_{X,Y}(x,y)\n",
    "$$\n",
    "and \n",
    "$$\n",
    "f_Y(y)=\\sum_x f_{X,Y}(x,y)\n",
    "$$\n"
   ]
  },
  {
   "cell_type": "markdown",
   "metadata": {},
   "source": [
    "**_1.3_** Find $P(X=2)$. \n",
    "\n",
    "**_1.4_** Find $f_Y(y)$ (the marginal pmf of $Y$). \n",
    "\n",
    "**_1.5_** Find $E(Y)$ and $V(Y)$. "
   ]
  },
  {
   "cell_type": "code",
   "execution_count": 85,
   "metadata": {},
   "outputs": [
    {
     "name": "stdout",
     "output_type": "stream",
     "text": [
      "P(X=2)= 0.45\n"
     ]
    }
   ],
   "source": [
    "print('P(X=2)=', .15+.1+.2)"
   ]
  },
  {
   "cell_type": "code",
   "execution_count": 14,
   "metadata": {
    "scrolled": true
   },
   "outputs": [
    {
     "name": "stdout",
     "output_type": "stream",
     "text": [
      "Y    | Fy(Y)\n",
      "1    | 0.4\n",
      "2    | 0.2\n",
      "3    | 0.4\n"
     ]
    }
   ],
   "source": [
    "FyY=Table().with_column('Y', make_array(1, 2, 3)).with_column('Fy(Y)', make_array(.17+.15+.08, .1+.1, .08+.2+.12))\n",
    "print(FyY)"
   ]
  },
  {
   "cell_type": "code",
   "execution_count": 101,
   "metadata": {},
   "outputs": [
    {
     "name": "stdout",
     "output_type": "stream",
     "text": [
      "E(Y)= 2.0\n",
      "V(Y)= 0.8\n"
     ]
    }
   ],
   "source": [
    "Ey=(FyY.column(0)*FyY.column(1)).sum()\n",
    "print('E(Y)=', Ey)\n",
    "Vy=((FyY.column(0)-Ey)**2*FyY.column(1)).sum()\n",
    "print('V(Y)=', Vy)"
   ]
  },
  {
   "cell_type": "markdown",
   "metadata": {},
   "source": [
    "### Conditional Probability\n",
    "\n",
    "We may be interested in the probability $X$ takes a specific value conditioned on the value of $Y$. Recall that conditional probability is given by $P(A|B)=\\frac{P(A,B)}{P(B)}$. \n",
    "\n",
    "So, essentially, conditional probability can be found by dividing the joint probability by the appropriate marginal probability. "
   ]
  },
  {
   "cell_type": "markdown",
   "metadata": {},
   "source": [
    "**_1.6_** Find $P(Y=1|X=3)$. \n",
    "\n",
    "**_1.7_** Find $f_{X|Y=2}(x)$, the conditional pmf of $X$, given $Y=2$. \n",
    "\n",
    "**_1.8_** Find $E(X|Y=2)$ and $V(X|Y=2)$. "
   ]
  },
  {
   "cell_type": "code",
   "execution_count": 16,
   "metadata": {
    "scrolled": true
   },
   "outputs": [
    {
     "name": "stdout",
     "output_type": "stream",
     "text": [
      "P(Y=1|X=3)= 0.26666666666666666\n"
     ]
    }
   ],
   "source": [
    "PY1X3=.08\n",
    "PX3=.08+.1+.12\n",
    "PY1giveX3=PY1X3/PX3\n",
    "print('P(Y=1|X=3)=', PY1giveX3)"
   ]
  },
  {
   "cell_type": "code",
   "execution_count": 20,
   "metadata": {},
   "outputs": [
    {
     "name": "stdout",
     "output_type": "stream",
     "text": [
      "X    | X given Y=2\n",
      "1    | 0\n",
      "2    | 0.5\n",
      "3    | 0.5\n"
     ]
    }
   ],
   "source": [
    "fXY2=Table().with_columns('X', make_array(1, 2, 3)).with_columns('X given Y=2', make_array(0, .1, .1)/.2)\n",
    "print(fXY2)"
   ]
  },
  {
   "cell_type": "code",
   "execution_count": 27,
   "metadata": {},
   "outputs": [
    {
     "name": "stdout",
     "output_type": "stream",
     "text": [
      "E(X|Y=2)= 2.5\n",
      "V(X|Y=2)= 0.25\n"
     ]
    }
   ],
   "source": [
    "EXY2=(fXY2.column(0)*fXY2.column(1)).sum()\n",
    "print('E(X|Y=2)=', EXY2)\n",
    "VXY2=((fXY2.column(0)-EXY2)**2*fXY2.column(1)).sum()\n",
    "print('V(X|Y=2)=', VXY2)"
   ]
  },
  {
   "cell_type": "markdown",
   "metadata": {},
   "source": [
    "**_1.9_** Are $X$ and $Y$ independent? Why or why not? "
   ]
  },
  {
   "cell_type": "code",
   "execution_count": 32,
   "metadata": {},
   "outputs": [
    {
     "name": "stdout",
     "output_type": "stream",
     "text": [
      "Does P(X=1)==P(X=1|Y=1)? If this is true, then X and Y are independent.\n",
      "No, so not independent.\n"
     ]
    }
   ],
   "source": [
    "print('Does P(X=1)==P(X=1|Y=1)? If this is true, then X and Y are independent.')\n",
    "X1=.17+0+.08\n",
    "X1giveY1=.17/(.17+.15+.08)\n",
    "if X1==X1giveY1:\n",
    "    print('Yes, so independent.')\n",
    "else:\n",
    "    print('No, so not independent.')"
   ]
  },
  {
   "cell_type": "markdown",
   "metadata": {},
   "source": [
    "### Covariance and Correlation\n",
    "\n",
    "Expected value and variance help us characterize $X$ and $Y$ marginally and conditionally, but we may also be interested in measuring the relationship between $X$ and $Y$. For this, we use *covariance*. \n",
    "\n",
    "$$\n",
    "Cov(X,Y)=E[(X-E(X))(Y-E(Y))] = E(XY)-E(X)E(Y)\n",
    "$$\n",
    "\n",
    "Note that if $X$ and $Y$ are independent, $Cov(X,Y) =0$. The converse is NOT necessarily true. \n",
    "\n",
    "Covariance is dependent on the scales of $X$ and $Y$, so if the two variables are of vastly different scale, we'll want to use covariance's unitless counterpart, correlation, denoted by $\\rho$. \n",
    "\n",
    "$$\n",
    "\\rho = \\frac{Cov(X,Y)}{\\sqrt{Var(X)Var(Y)}}\n",
    "$$\n",
    "\n",
    "$\\rho$ is bounded by the interval $[-1,1]$. When $\\rho=1$, $X$ and $Y$ are perfectly positively correlated. Similarly, when $\\rho=-1$, $X$ and $Y$ are perfectly negatively correlated. "
   ]
  },
  {
   "cell_type": "markdown",
   "metadata": {},
   "source": [
    "**_1.10_** Find $Cov(X,Y)$\n",
    "\n",
    "**_1.11_** Find $Corr(X,Y)$, or $\\rho$. "
   ]
  },
  {
   "cell_type": "code",
   "execution_count": 37,
   "metadata": {},
   "outputs": [
    {
     "name": "stdout",
     "output_type": "stream",
     "text": [
      "Cov(X,Y)= 0.13000000000000078\n"
     ]
    }
   ],
   "source": [
    "EX=1*(.17+.08)+2*(.15+.1+.2)+3*(.08+.1+.12)\n",
    "EY=1*(.17+.15+.08)+2*(0+.1+.1)+3*(.08+.2+.12)\n",
    "EXY=1*.17+2*(.15+0)+3*(.08+.08)+4*.1+6*(.1+.2)+9*.12\n",
    "CovXY=EXY-EX*EY\n",
    "print('Cov(X,Y)=', CovXY)"
   ]
  },
  {
   "cell_type": "code",
   "execution_count": 41,
   "metadata": {},
   "outputs": [
    {
     "name": "stdout",
     "output_type": "stream",
     "text": [
      "Corr(X,Y)= 0.13161391647069334\n"
     ]
    }
   ],
   "source": [
    "VX=(1-EX)**2*(.25)+(2-EX)**2*(.45)+(3-EX)**2**(.2)\n",
    "VY=(1-EY)**2*(.4)+(2-EY)**2*(.2)+(3-EY)**2*(.4)\n",
    "p=CovXY/(VX*VY)**.5\n",
    "print('Corr(X,Y)=', p)"
   ]
  },
  {
   "cell_type": "markdown",
   "metadata": {},
   "source": [
    "In problem 1.2, we found $E(X+Y)$. In order to find $Var(X+Y)$, we need to know how $X$ and $Y$ are correlated: \n",
    "\n",
    "$$\n",
    "Var(X+Y)= Var(X)+Var(Y)+2*Cov(X,Y)\n",
    "$$"
   ]
  },
  {
   "cell_type": "markdown",
   "metadata": {},
   "source": [
    "**_1.12_** Find $Var(X+Y)$. "
   ]
  },
  {
   "cell_type": "code",
   "execution_count": 42,
   "metadata": {},
   "outputs": [
    {
     "name": "stdout",
     "output_type": "stream",
     "text": [
      "Var(X+Y)= 2.279531695748503\n"
     ]
    }
   ],
   "source": [
    "VXpY=VX+VY+2*CovXY\n",
    "print('Var(X+Y)=', VXpY)"
   ]
  },
  {
   "cell_type": "markdown",
   "metadata": {},
   "source": [
    "#### Example 2: Continuous Joint Distribution\n",
    "\n",
    "All of the concepts above apply to continuous random variables. Consider continuous random variables $X$ and $Y$ with the following joint pdf:\n",
    "\n",
    "$$\n",
    "f_{X,Y}(x,y)=k(x+y)\n",
    "$$\n",
    "\n",
    "where both $x$ and $y$ are bounded by the interval $[0,1]$. "
   ]
  },
  {
   "cell_type": "markdown",
   "metadata": {},
   "source": [
    "**_2.1_** Find the value of $k$ that makes $f$ a valid joint pdf. "
   ]
  },
  {
   "cell_type": "code",
   "execution_count": 92,
   "metadata": {},
   "outputs": [
    {
     "name": "stdout",
     "output_type": "stream",
     "text": [
      "We want int(Fxy(X,Y)) to be 1.\n",
      "1.0\n"
     ]
    },
    {
     "data": {
      "text/plain": [
       "1.0"
      ]
     },
     "execution_count": 92,
     "metadata": {},
     "output_type": "execute_result"
    }
   ],
   "source": [
    "print('We want int(Fxy(X,Y)) to be 1.')\n",
    "import scipy\n",
    "import numpy as np\n",
    "k=1\n",
    "print(scipy.integrate.dblquad(lambda x, y: k*(x+y), 0, 1, lambda x: 0, lambda x: 1)[0])\n",
    "def totpdf(x,y):\n",
    "    return 1*(x+y)"
   ]
  },
  {
   "cell_type": "markdown",
   "metadata": {},
   "source": [
    "**_2.2_** Find $P(X<0.5,Y<0.5)$"
   ]
  },
  {
   "cell_type": "code",
   "execution_count": 69,
   "metadata": {},
   "outputs": [
    {
     "data": {
      "text/plain": [
       "0.125"
      ]
     },
     "execution_count": 69,
     "metadata": {},
     "output_type": "execute_result"
    }
   ],
   "source": [
    "scipy.integrate.dblquad(lambda x, y: k*(x+y), 0, .5, lambda x: 0, lambda x: .5)[0]"
   ]
  },
  {
   "cell_type": "markdown",
   "metadata": {},
   "source": [
    "**_2.3_** Find $f_X(x)$ and $f_Y(y)$, the marginal pdfs of $X$ and $Y$. \n",
    "\n",
    "**_2.4_** Find $E(X)$ and $E(Y)$. "
   ]
  },
  {
   "cell_type": "code",
   "execution_count": 91,
   "metadata": {},
   "outputs": [
    {
     "data": {
      "text/plain": [
       "1.0"
      ]
     },
     "execution_count": 91,
     "metadata": {},
     "output_type": "execute_result"
    }
   ],
   "source": [
    "def fx(x):\n",
    "    return .5+x\n",
    "def fy(y):\n",
    "    return .5+y"
   ]
  },
  {
   "cell_type": "code",
   "execution_count": 79,
   "metadata": {},
   "outputs": [
    {
     "name": "stdout",
     "output_type": "stream",
     "text": [
      "EX= 0.5833333333333333 EY= 0.5833333333333333\n"
     ]
    }
   ],
   "source": [
    "EX=scipy.integrate.dblquad(lambda x, y: k*(x+y)*x, 0, 1, lambda x: 0, lambda x: 1)[0]\n",
    "EY=scipy.integrate.dblquad(lambda x, y: k*(x+y)*y, 0, 1, lambda x: 0, lambda x: 1)[0]\n",
    "print('EX=', EX, 'EY=', EY)"
   ]
  },
  {
   "cell_type": "markdown",
   "metadata": {},
   "source": [
    "**_2.5_** Find $P(X>0.5\\vert Y\\leq 0.5)$. "
   ]
  },
  {
   "cell_type": "code",
   "execution_count": 80,
   "metadata": {
    "scrolled": true
   },
   "outputs": [
    {
     "name": "stdout",
     "output_type": "stream",
     "text": [
      "P(X>.5|Y</.5)= 0.6666666666666666\n"
     ]
    }
   ],
   "source": [
    "PXleq5=scipy.integrate.dblquad(lambda x, y: k*(x+y), 0, .5, lambda x: 0, lambda x: 1)[0]\n",
    "Ptot=scipy.integrate.dblquad(lambda x, y: k*(x+y), 0, .5, lambda x: .5, lambda x: 1)[0]\n",
    "Pfin=Ptot/PXleq5\n",
    "print('P(X>.5|Y</.5)=', Pfin)"
   ]
  },
  {
   "cell_type": "markdown",
   "metadata": {},
   "source": [
    "**_2.6_** Find the conditional distributions of $X|Y$ and $Y|X$. Recall that conditional distributions can be found by dividing the joint pdf by the relevant marginal pdf. \n",
    "\n",
    "**_2.7_** Find $E(X|Y)$ and $E(Y|X)$."
   ]
  },
  {
   "cell_type": "code",
   "execution_count": 109,
   "metadata": {},
   "outputs": [],
   "source": [
    "def XgiveY(x, y):\n",
    "    return totpdf(x,y)/fy(y)\n",
    "\n",
    "def YgiveX(x, y):\n",
    "    return totpdf(x,y)/fx(x)"
   ]
  },
  {
   "cell_type": "code",
   "execution_count": 110,
   "metadata": {},
   "outputs": [
    {
     "name": "stdout",
     "output_type": "stream",
     "text": [
      "E(X|Y)= 0.5915510240556758 E(Y|X)= 0.5915510240556758\n"
     ]
    }
   ],
   "source": [
    "EXgiveY=scipy.integrate.dblquad(lambda x, y: XgiveY(x,y)*x, 0, 1, lambda x: 0, lambda x: 1)[0]\n",
    "EYgiveX=scipy.integrate.dblquad(lambda x, y: YgiveX(x,y)*y, 0, 1, lambda x: 0, lambda x: 1)[0]\n",
    "print('E(X|Y)=', EXgiveY, 'E(Y|X)=', EYgiveX)"
   ]
  },
  {
   "cell_type": "markdown",
   "metadata": {},
   "source": [
    "**_2.8_** Are $X$ and $Y$ independent? "
   ]
  },
  {
   "cell_type": "code",
   "execution_count": 112,
   "metadata": {},
   "outputs": [
    {
     "name": "stdout",
     "output_type": "stream",
     "text": [
      "X and Y are not independent.\n"
     ]
    }
   ],
   "source": [
    "if EX==EXgiveY:\n",
    "    print('X and Y are independent.')\n",
    "else:\n",
    "    print('X and Y are not independent.')"
   ]
  },
  {
   "cell_type": "markdown",
   "metadata": {},
   "source": [
    "**_2.9_** What is $Cov(X,Y)$? "
   ]
  },
  {
   "cell_type": "code",
   "execution_count": 113,
   "metadata": {},
   "outputs": [
    {
     "data": {
      "text/plain": [
       "0.13000000000000078"
      ]
     },
     "execution_count": 113,
     "metadata": {},
     "output_type": "execute_result"
    }
   ],
   "source": [
    "CovXY==scipy.integrate.dblquad(lambda x, y: (x+y)-(.5+x)*(.5-y), 0, 1, lambda x: 0, lambda x: 1)[0]\n",
    "CovXY"
   ]
  }
 ],
 "metadata": {
  "kernelspec": {
   "display_name": "Python 3",
   "language": "python",
   "name": "python3"
  },
  "language_info": {
   "codemirror_mode": {
    "name": "ipython",
    "version": 3
   },
   "file_extension": ".py",
   "mimetype": "text/x-python",
   "name": "python",
   "nbconvert_exporter": "python",
   "pygments_lexer": "ipython3",
   "version": "3.6.5"
  }
 },
 "nbformat": 4,
 "nbformat_minor": 2
}
